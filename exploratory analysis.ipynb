{
 "cells": [
  {
   "cell_type": "markdown",
   "metadata": {},
   "source": [
    "# Exploratory Analysis of Product and Client Data"
   ]
  },
  {
   "cell_type": "markdown",
   "metadata": {},
   "source": [
    "There are 1,799 unique product ids and 880,604 unique client ids in the Grupo Bimbo data set. Product ID (Producto_ID), Product Name (NombreProducto), Client Id (Cliente_ID), and Client Name (NombreCliente) are all high cardinality features. This is an exploration intended to discover what additional information can be obtained from these variables."
   ]
  },
  {
   "cell_type": "markdown",
   "metadata": {},
   "source": [
    "## Important Necessary Packages "
   ]
  },
  {
   "cell_type": "code",
   "execution_count": 2,
   "metadata": {
    "collapsed": false
   },
   "outputs": [],
   "source": [
    "import matplotlib.pyplot as plt\n",
    "import pandas as pd\n",
    "import numpy as np\n",
    "import os\n",
    "%matplotlib inline"
   ]
  },
  {
   "cell_type": "markdown",
   "metadata": {},
   "source": [
    "## Load the data"
   ]
  },
  {
   "cell_type": "markdown",
   "metadata": {},
   "source": [
    "Please be patient. The train dataset is over 3GB so this could take a few minutes to load..."
   ]
  },
  {
   "cell_type": "code",
   "execution_count": 3,
   "metadata": {
    "collapsed": false
   },
   "outputs": [
    {
     "data": {
      "text/html": [
       "<div>\n",
       "<table border=\"1\" class=\"dataframe\">\n",
       "  <thead>\n",
       "    <tr style=\"text-align: right;\">\n",
       "      <th></th>\n",
       "      <th>Producto_ID</th>\n",
       "      <th>Cliente_ID</th>\n",
       "      <th>Agencia_ID</th>\n",
       "      <th>Demanda_uni_equil</th>\n",
       "    </tr>\n",
       "  </thead>\n",
       "  <tbody>\n",
       "    <tr>\n",
       "      <th>0</th>\n",
       "      <td>1212</td>\n",
       "      <td>15766</td>\n",
       "      <td>1110</td>\n",
       "      <td>3</td>\n",
       "    </tr>\n",
       "    <tr>\n",
       "      <th>1</th>\n",
       "      <td>1216</td>\n",
       "      <td>15766</td>\n",
       "      <td>1110</td>\n",
       "      <td>4</td>\n",
       "    </tr>\n",
       "    <tr>\n",
       "      <th>2</th>\n",
       "      <td>1238</td>\n",
       "      <td>15766</td>\n",
       "      <td>1110</td>\n",
       "      <td>4</td>\n",
       "    </tr>\n",
       "    <tr>\n",
       "      <th>3</th>\n",
       "      <td>1240</td>\n",
       "      <td>15766</td>\n",
       "      <td>1110</td>\n",
       "      <td>4</td>\n",
       "    </tr>\n",
       "    <tr>\n",
       "      <th>4</th>\n",
       "      <td>1242</td>\n",
       "      <td>15766</td>\n",
       "      <td>1110</td>\n",
       "      <td>3</td>\n",
       "    </tr>\n",
       "  </tbody>\n",
       "</table>\n",
       "</div>"
      ],
      "text/plain": [
       "   Producto_ID  Cliente_ID  Agencia_ID  Demanda_uni_equil\n",
       "0         1212       15766        1110                  3\n",
       "1         1216       15766        1110                  4\n",
       "2         1238       15766        1110                  4\n",
       "3         1240       15766        1110                  4\n",
       "4         1242       15766        1110                  3"
      ]
     },
     "execution_count": 3,
     "metadata": {},
     "output_type": "execute_result"
    }
   ],
   "source": [
    "os.chdir('D:/OneDrive/Documents/Kaggle/Grupo Bimbo Inventory Demand/data')  \n",
    "products = pd.read_csv('producto_tabla.csv', sep = \",\")\n",
    "clients = pd.read_csv('cliente_tabla.csv', sep = \",\")\n",
    "train = pd.read_csv('train.csv', sep = \",\")\n",
    "train.head()\n",
    "columns = ['Producto_ID', 'Cliente_ID', 'Agencia_ID', 'Demanda_uni_equil']\n",
    "train = train.ix[:, columns]\n",
    "train.head()"
   ]
  },
  {
   "cell_type": "markdown",
   "metadata": {},
   "source": [
    "## Examine product data"
   ]
  },
  {
   "cell_type": "code",
   "execution_count": 4,
   "metadata": {
    "collapsed": false
   },
   "outputs": [
    {
     "name": "stdout",
     "output_type": "stream",
     "text": [
      "Shape: (2592, 2)\n",
      "# Duplicate Values: 0\n"
     ]
    },
    {
     "data": {
      "text/html": [
       "<div>\n",
       "<table border=\"1\" class=\"dataframe\">\n",
       "  <thead>\n",
       "    <tr style=\"text-align: right;\">\n",
       "      <th></th>\n",
       "      <th>Producto_ID</th>\n",
       "      <th>NombreProducto</th>\n",
       "    </tr>\n",
       "  </thead>\n",
       "  <tbody>\n",
       "    <tr>\n",
       "      <th>0</th>\n",
       "      <td>0</td>\n",
       "      <td>NO IDENTIFICADO 0</td>\n",
       "    </tr>\n",
       "    <tr>\n",
       "      <th>1</th>\n",
       "      <td>9</td>\n",
       "      <td>Capuccino Moka 750g NES 9</td>\n",
       "    </tr>\n",
       "    <tr>\n",
       "      <th>2</th>\n",
       "      <td>41</td>\n",
       "      <td>Bimbollos Ext sAjonjoli 6p 480g BIM 41</td>\n",
       "    </tr>\n",
       "    <tr>\n",
       "      <th>3</th>\n",
       "      <td>53</td>\n",
       "      <td>Burritos Sincro 170g CU LON 53</td>\n",
       "    </tr>\n",
       "    <tr>\n",
       "      <th>4</th>\n",
       "      <td>72</td>\n",
       "      <td>Div Tira Mini Doradita 4p 45g TR 72</td>\n",
       "    </tr>\n",
       "  </tbody>\n",
       "</table>\n",
       "</div>"
      ],
      "text/plain": [
       "   Producto_ID                          NombreProducto\n",
       "0            0                       NO IDENTIFICADO 0\n",
       "1            9               Capuccino Moka 750g NES 9\n",
       "2           41  Bimbollos Ext sAjonjoli 6p 480g BIM 41\n",
       "3           53          Burritos Sincro 170g CU LON 53\n",
       "4           72     Div Tira Mini Doradita 4p 45g TR 72"
      ]
     },
     "execution_count": 4,
     "metadata": {},
     "output_type": "execute_result"
    }
   ],
   "source": [
    "print 'Shape: ' + str(products.shape)\n",
    "products.head()\n",
    "print '# Duplicate Values: '+ str(products.duplicated(keep = False).sum())\n",
    "products.head()"
   ]
  },
  {
   "cell_type": "markdown",
   "metadata": {},
   "source": [
    "I did not notice the clear pattern in the NombreProducto column at first. There is definitely a (Product Name, Pieces, Weight, Brand) pattern in the data as pointed out by this Kaggle user: https://www.kaggle.com/vykhand/grupo-bimbo-inventory-demand/exploring-products The credit for the invention of these features belongs to them. "
   ]
  },
  {
   "cell_type": "markdown",
   "metadata": {},
   "source": [
    "## Split NombreProducto into 4 new features"
   ]
  },
  {
   "cell_type": "code",
   "execution_count": 5,
   "metadata": {
    "collapsed": false
   },
   "outputs": [
    {
     "name": "stderr",
     "output_type": "stream",
     "text": [
      "C:\\Users\\thep3\\Anaconda2\\lib\\site-packages\\ipykernel\\__main__.py:5: FutureWarning: currently extract(expand=None) means expand=False (return Index/Series/DataFrame) but in a future version of pandas this will be changed to expand=True (return DataFrame)\n"
     ]
    },
    {
     "data": {
      "text/html": [
       "<div>\n",
       "<table border=\"1\" class=\"dataframe\">\n",
       "  <thead>\n",
       "    <tr style=\"text-align: right;\">\n",
       "      <th></th>\n",
       "      <th>Producto_ID</th>\n",
       "      <th>NombreProducto</th>\n",
       "      <th>short_product_name</th>\n",
       "      <th>pieces</th>\n",
       "      <th>weight</th>\n",
       "      <th>brand</th>\n",
       "    </tr>\n",
       "  </thead>\n",
       "  <tbody>\n",
       "    <tr>\n",
       "      <th>0</th>\n",
       "      <td>0</td>\n",
       "      <td>NO IDENTIFICADO 0</td>\n",
       "      <td>NO IDENTIFICADO</td>\n",
       "      <td>NaN</td>\n",
       "      <td>NaN</td>\n",
       "      <td>IDENTIFICADO</td>\n",
       "    </tr>\n",
       "    <tr>\n",
       "      <th>1</th>\n",
       "      <td>9</td>\n",
       "      <td>Capuccino Moka 750g NES 9</td>\n",
       "      <td>Capuccino Moka</td>\n",
       "      <td>NaN</td>\n",
       "      <td>750.0</td>\n",
       "      <td>NES</td>\n",
       "    </tr>\n",
       "    <tr>\n",
       "      <th>2</th>\n",
       "      <td>41</td>\n",
       "      <td>Bimbollos Ext sAjonjoli 6p 480g BIM 41</td>\n",
       "      <td>Bimbollos Ext sAjonjoli</td>\n",
       "      <td>6.0</td>\n",
       "      <td>480.0</td>\n",
       "      <td>BIM</td>\n",
       "    </tr>\n",
       "    <tr>\n",
       "      <th>3</th>\n",
       "      <td>53</td>\n",
       "      <td>Burritos Sincro 170g CU LON 53</td>\n",
       "      <td>Burritos Sincro</td>\n",
       "      <td>NaN</td>\n",
       "      <td>170.0</td>\n",
       "      <td>LON</td>\n",
       "    </tr>\n",
       "    <tr>\n",
       "      <th>4</th>\n",
       "      <td>72</td>\n",
       "      <td>Div Tira Mini Doradita 4p 45g TR 72</td>\n",
       "      <td>Div Tira Mini Doradita</td>\n",
       "      <td>4.0</td>\n",
       "      <td>45.0</td>\n",
       "      <td>TR</td>\n",
       "    </tr>\n",
       "  </tbody>\n",
       "</table>\n",
       "</div>"
      ],
      "text/plain": [
       "   Producto_ID                          NombreProducto  \\\n",
       "0            0                       NO IDENTIFICADO 0   \n",
       "1            9               Capuccino Moka 750g NES 9   \n",
       "2           41  Bimbollos Ext sAjonjoli 6p 480g BIM 41   \n",
       "3           53          Burritos Sincro 170g CU LON 53   \n",
       "4           72     Div Tira Mini Doradita 4p 45g TR 72   \n",
       "\n",
       "         short_product_name  pieces  weight         brand  \n",
       "0          NO IDENTIFICADO      NaN     NaN  IDENTIFICADO  \n",
       "1           Capuccino Moka      NaN   750.0           NES  \n",
       "2  Bimbollos Ext sAjonjoli      6.0   480.0           BIM  \n",
       "3          Burritos Sincro      NaN   170.0           LON  \n",
       "4   Div Tira Mini Doradita      4.0    45.0            TR  "
      ]
     },
     "execution_count": 5,
     "metadata": {},
     "output_type": "execute_result"
    }
   ],
   "source": [
    "products['short_product_name'] = products['NombreProducto'].str.extract('^(\\D*)', expand = False)\n",
    "products['pieces'] = products['NombreProducto'].str.extract('(\\d+)p ', expand = False).astype(float)\n",
    "weights = products['NombreProducto'].str.extract('(\\d+)(Kg|g)', expand = True)\n",
    "products['weight'] = weights[0].astype('float') * weights[1].map({'Kg': 1000, 'g': 1})\n",
    "products['brand'] = products['NombreProducto'].str.extract('^.+\\s(\\D+) \\d+$')\n",
    "products.head()"
   ]
  },
  {
   "cell_type": "markdown",
   "metadata": {},
   "source": [
    "Clean up the short_product_name feature by removing stopwords and stem words..."
   ]
  },
  {
   "cell_type": "code",
   "execution_count": 6,
   "metadata": {
    "collapsed": false
   },
   "outputs": [
    {
     "data": {
      "text/html": [
       "<div>\n",
       "<table border=\"1\" class=\"dataframe\">\n",
       "  <thead>\n",
       "    <tr style=\"text-align: right;\">\n",
       "      <th></th>\n",
       "      <th>Producto_ID</th>\n",
       "      <th>NombreProducto</th>\n",
       "      <th>short_product_name</th>\n",
       "      <th>pieces</th>\n",
       "      <th>weight</th>\n",
       "      <th>brand</th>\n",
       "    </tr>\n",
       "  </thead>\n",
       "  <tbody>\n",
       "    <tr>\n",
       "      <th>0</th>\n",
       "      <td>0</td>\n",
       "      <td>NO IDENTIFICADO 0</td>\n",
       "      <td>identific</td>\n",
       "      <td>NaN</td>\n",
       "      <td>NaN</td>\n",
       "      <td>IDENTIFICADO</td>\n",
       "    </tr>\n",
       "    <tr>\n",
       "      <th>1</th>\n",
       "      <td>9</td>\n",
       "      <td>Capuccino Moka 750g NES 9</td>\n",
       "      <td>capuccin mok</td>\n",
       "      <td>NaN</td>\n",
       "      <td>750.0</td>\n",
       "      <td>NES</td>\n",
       "    </tr>\n",
       "    <tr>\n",
       "      <th>2</th>\n",
       "      <td>41</td>\n",
       "      <td>Bimbollos Ext sAjonjoli 6p 480g BIM 41</td>\n",
       "      <td>bimboll ext sajonjoli</td>\n",
       "      <td>6.0</td>\n",
       "      <td>480.0</td>\n",
       "      <td>BIM</td>\n",
       "    </tr>\n",
       "    <tr>\n",
       "      <th>3</th>\n",
       "      <td>53</td>\n",
       "      <td>Burritos Sincro 170g CU LON 53</td>\n",
       "      <td>burrit sincr</td>\n",
       "      <td>NaN</td>\n",
       "      <td>170.0</td>\n",
       "      <td>LON</td>\n",
       "    </tr>\n",
       "    <tr>\n",
       "      <th>4</th>\n",
       "      <td>72</td>\n",
       "      <td>Div Tira Mini Doradita 4p 45g TR 72</td>\n",
       "      <td>div tir mini doradit</td>\n",
       "      <td>4.0</td>\n",
       "      <td>45.0</td>\n",
       "      <td>TR</td>\n",
       "    </tr>\n",
       "  </tbody>\n",
       "</table>\n",
       "</div>"
      ],
      "text/plain": [
       "   Producto_ID                          NombreProducto     short_product_name  \\\n",
       "0            0                       NO IDENTIFICADO 0              identific   \n",
       "1            9               Capuccino Moka 750g NES 9           capuccin mok   \n",
       "2           41  Bimbollos Ext sAjonjoli 6p 480g BIM 41  bimboll ext sajonjoli   \n",
       "3           53          Burritos Sincro 170g CU LON 53           burrit sincr   \n",
       "4           72     Div Tira Mini Doradita 4p 45g TR 72   div tir mini doradit   \n",
       "\n",
       "   pieces  weight         brand  \n",
       "0     NaN     NaN  IDENTIFICADO  \n",
       "1     NaN   750.0           NES  \n",
       "2     6.0   480.0           BIM  \n",
       "3     NaN   170.0           LON  \n",
       "4     4.0    45.0            TR  "
      ]
     },
     "execution_count": 6,
     "metadata": {},
     "output_type": "execute_result"
    }
   ],
   "source": [
    "from nltk.corpus import stopwords\n",
    "from nltk.stem import SnowballStemmer\n",
    "stemmer = SnowballStemmer(\"spanish\")\n",
    "\n",
    "# Remove stopwords\n",
    "products['short_product_name'] = (products['short_product_name'].map(lambda x: \" \".join([i for i in x.lower()\n",
    "                                                            .split() if i not in stopwords.words(\"spanish\")])))\n",
    "\n",
    "# Remove stemwords\n",
    "products['short_product_name'] = (products['short_product_name'].map(lambda x: \" \".join([stemmer.stem(i) for i in x.lower().split()])))\n",
    "\n",
    "products.head()"
   ]
  },
  {
   "cell_type": "markdown",
   "metadata": {},
   "source": [
    "## Merge the train and products dataframes"
   ]
  },
  {
   "cell_type": "markdown",
   "metadata": {},
   "source": [
    "This could take a while..."
   ]
  },
  {
   "cell_type": "code",
   "execution_count": 7,
   "metadata": {
    "collapsed": false
   },
   "outputs": [
    {
     "name": "stdout",
     "output_type": "stream",
     "text": [
      "Shape Before Merge: (74180464, 4)\n",
      "Shape After Merge: (74180464, 9)\n"
     ]
    },
    {
     "data": {
      "text/html": [
       "<div>\n",
       "<table border=\"1\" class=\"dataframe\">\n",
       "  <thead>\n",
       "    <tr style=\"text-align: right;\">\n",
       "      <th></th>\n",
       "      <th>Producto_ID</th>\n",
       "      <th>Cliente_ID</th>\n",
       "      <th>Agencia_ID</th>\n",
       "      <th>Demanda_uni_equil</th>\n",
       "      <th>NombreProducto</th>\n",
       "      <th>short_product_name</th>\n",
       "      <th>pieces</th>\n",
       "      <th>weight</th>\n",
       "      <th>brand</th>\n",
       "    </tr>\n",
       "  </thead>\n",
       "  <tbody>\n",
       "    <tr>\n",
       "      <th>0</th>\n",
       "      <td>1212</td>\n",
       "      <td>15766</td>\n",
       "      <td>1110</td>\n",
       "      <td>3</td>\n",
       "      <td>Roles Canela 2p 120g BIM 1212</td>\n",
       "      <td>rol canel</td>\n",
       "      <td>2.0</td>\n",
       "      <td>120.0</td>\n",
       "      <td>BIM</td>\n",
       "    </tr>\n",
       "    <tr>\n",
       "      <th>1</th>\n",
       "      <td>1216</td>\n",
       "      <td>15766</td>\n",
       "      <td>1110</td>\n",
       "      <td>4</td>\n",
       "      <td>Roles Glass 2p 135g BIM 1216</td>\n",
       "      <td>rol glass</td>\n",
       "      <td>2.0</td>\n",
       "      <td>135.0</td>\n",
       "      <td>BIM</td>\n",
       "    </tr>\n",
       "    <tr>\n",
       "      <th>2</th>\n",
       "      <td>1238</td>\n",
       "      <td>15766</td>\n",
       "      <td>1110</td>\n",
       "      <td>4</td>\n",
       "      <td>Panquecito Gota Choc 2p 140g BIM 1238</td>\n",
       "      <td>panquecit got choc</td>\n",
       "      <td>2.0</td>\n",
       "      <td>140.0</td>\n",
       "      <td>BIM</td>\n",
       "    </tr>\n",
       "    <tr>\n",
       "      <th>3</th>\n",
       "      <td>1240</td>\n",
       "      <td>15766</td>\n",
       "      <td>1110</td>\n",
       "      <td>4</td>\n",
       "      <td>Mantecadas Vainilla 4p 125g BIM 1240</td>\n",
       "      <td>mantec vainill</td>\n",
       "      <td>4.0</td>\n",
       "      <td>125.0</td>\n",
       "      <td>BIM</td>\n",
       "    </tr>\n",
       "    <tr>\n",
       "      <th>4</th>\n",
       "      <td>1242</td>\n",
       "      <td>15766</td>\n",
       "      <td>1110</td>\n",
       "      <td>3</td>\n",
       "      <td>Donitas Espolvoreadas 6p 105g BIM 1242</td>\n",
       "      <td>donit espolvor</td>\n",
       "      <td>6.0</td>\n",
       "      <td>105.0</td>\n",
       "      <td>BIM</td>\n",
       "    </tr>\n",
       "  </tbody>\n",
       "</table>\n",
       "</div>"
      ],
      "text/plain": [
       "   Producto_ID  Cliente_ID  Agencia_ID  Demanda_uni_equil  \\\n",
       "0         1212       15766        1110                  3   \n",
       "1         1216       15766        1110                  4   \n",
       "2         1238       15766        1110                  4   \n",
       "3         1240       15766        1110                  4   \n",
       "4         1242       15766        1110                  3   \n",
       "\n",
       "                           NombreProducto  short_product_name  pieces  weight  \\\n",
       "0           Roles Canela 2p 120g BIM 1212           rol canel     2.0   120.0   \n",
       "1            Roles Glass 2p 135g BIM 1216           rol glass     2.0   135.0   \n",
       "2   Panquecito Gota Choc 2p 140g BIM 1238  panquecit got choc     2.0   140.0   \n",
       "3    Mantecadas Vainilla 4p 125g BIM 1240      mantec vainill     4.0   125.0   \n",
       "4  Donitas Espolvoreadas 6p 105g BIM 1242      donit espolvor     6.0   105.0   \n",
       "\n",
       "  brand  \n",
       "0   BIM  \n",
       "1   BIM  \n",
       "2   BIM  \n",
       "3   BIM  \n",
       "4   BIM  "
      ]
     },
     "execution_count": 7,
     "metadata": {},
     "output_type": "execute_result"
    }
   ],
   "source": [
    "print 'Shape Before Merge: ' + str(train.shape)\n",
    "train = train.ix[:, columns].merge(products, on = ['Producto_ID'], how = 'left')\n",
    "print 'Shape After Merge: ' + str(train.shape)\n",
    "train.head()"
   ]
  },
  {
   "cell_type": "markdown",
   "metadata": {
    "collapsed": false
   },
   "source": [
    "## Visualize data"
   ]
  },
  {
   "cell_type": "markdown",
   "metadata": {
    "collapsed": false
   },
   "source": [
    "Let's take a look at the best-selling products by short_product_name..."
   ]
  },
  {
   "cell_type": "code",
   "execution_count": 8,
   "metadata": {
    "collapsed": false
   },
   "outputs": [],
   "source": [
    "columns = ['short_product_name', 'Demanda_uni_equil']\n",
    "best_sellers = pd.DataFrame({'Adjusted_Sales': train.groupby(['short_product_name'])['Demanda_uni_equil'].sum()}).reset_index()"
   ]
  },
  {
   "cell_type": "code",
   "execution_count": 9,
   "metadata": {
    "collapsed": false
   },
   "outputs": [
    {
     "name": "stdout",
     "output_type": "stream",
     "text": [
      "    short_product_name  Adjusted_Sales\n",
      "367                nit        57606859\n",
      "274             gansit        26133420\n",
      "487              reban        26098669\n",
      "385          pan blanc        21724162\n",
      "621          tortillin        19591899\n",
      "406       pan integral        16943395\n",
      "326     mantec vainill        15967225\n",
      "28         barrit fres        14918914\n",
      "205           don azuc        13744940\n",
      "209     donit espolvor        12867906\n",
      "\n",
      "Unique Product Ids: 1799\n",
      "Unique short product names: 687\n",
      "Top Seller as Percentage of All Sales: 0.0361763796344\n"
     ]
    }
   ],
   "source": [
    "best_sellers = best_sellers.sort_values(by = ['Adjusted_Sales'], ascending = False)\n",
    "print best_sellers.head(n=10)\n",
    "\n",
    "print ''\n",
    "print 'Unique Product Ids: ' + str(len(train['Producto_ID'].unique()))\n",
    "print 'Unique short product names: ' + str(len(train['short_product_name'].unique()))\n",
    "print 'Top Seller as Percentage of All Sales: ' + str(100.0 * best_sellers['Adjusted_Sales'][0] / best_sellers['Adjusted_Sales'].sum())"
   ]
  },
  {
   "cell_type": "markdown",
   "metadata": {},
   "source": [
    "By shortening the product name, we've cut down the number of unique product ids by over 60%."
   ]
  },
  {
   "cell_type": "markdown",
   "metadata": {},
   "source": [
    "nit is most commonly sold product, accounting for ~0.36% of total sales. Let's see what a 'nit' is with a quick Google search..."
   ]
  },
  {
   "cell_type": "code",
   "execution_count": 10,
   "metadata": {
    "collapsed": false
   },
   "outputs": [
    {
     "data": {
      "image/jpeg": "[encoded data removed]",
      "text/plain": [
       "<IPython.core.display.Image object>"
      ]
     },
     "execution_count": 10,
     "metadata": {},
     "output_type": "execute_result"
    }
   ],
   "source": [
    "from IPython.display import Image\n",
    "Image(filename='nito.jpg')"
   ]
  },
  {
   "cell_type": "markdown",
   "metadata": {},
   "source": [
    "Looks like a tasty chocolate treat! (I actually found one at my local Fred Meyer's and tried it out.)"
   ]
  },
  {
   "cell_type": "markdown",
   "metadata": {},
   "source": [
    "Let's examine the different variants of the 'nito' product..."
   ]
  },
  {
   "cell_type": "code",
   "execution_count": 11,
   "metadata": {
    "collapsed": false
   },
   "outputs": [
    {
     "data": {
      "text/html": [
       "<div>\n",
       "<table border=\"1\" class=\"dataframe\">\n",
       "  <thead>\n",
       "    <tr style=\"text-align: right;\">\n",
       "      <th></th>\n",
       "      <th>Producto_ID</th>\n",
       "      <th>short_product_name</th>\n",
       "      <th>pieces</th>\n",
       "      <th>weight</th>\n",
       "      <th>brand</th>\n",
       "    </tr>\n",
       "  </thead>\n",
       "  <tbody>\n",
       "    <tr>\n",
       "      <th>18</th>\n",
       "      <td>34053</td>\n",
       "      <td>nit</td>\n",
       "      <td>1.0</td>\n",
       "      <td>62.0</td>\n",
       "      <td>BIM</td>\n",
       "    </tr>\n",
       "    <tr>\n",
       "      <th>21083</th>\n",
       "      <td>1278</td>\n",
       "      <td>nit</td>\n",
       "      <td>1.0</td>\n",
       "      <td>62.0</td>\n",
       "      <td>BIM</td>\n",
       "    </tr>\n",
       "    <tr>\n",
       "      <th>159084</th>\n",
       "      <td>43342</td>\n",
       "      <td>nit</td>\n",
       "      <td>4.0</td>\n",
       "      <td>248.0</td>\n",
       "      <td>BIM</td>\n",
       "    </tr>\n",
       "    <tr>\n",
       "      <th>159375</th>\n",
       "      <td>34054</td>\n",
       "      <td>nit</td>\n",
       "      <td>1.0</td>\n",
       "      <td>62.0</td>\n",
       "      <td>BIM</td>\n",
       "    </tr>\n",
       "    <tr>\n",
       "      <th>1288104</th>\n",
       "      <td>630</td>\n",
       "      <td>nit</td>\n",
       "      <td>4.0</td>\n",
       "      <td>248.0</td>\n",
       "      <td>BIM</td>\n",
       "    </tr>\n",
       "    <tr>\n",
       "      <th>2230749</th>\n",
       "      <td>2425</td>\n",
       "      <td>nit</td>\n",
       "      <td>1.0</td>\n",
       "      <td>62.0</td>\n",
       "      <td>BIM</td>\n",
       "    </tr>\n",
       "    <tr>\n",
       "      <th>2338404</th>\n",
       "      <td>43206</td>\n",
       "      <td>nit</td>\n",
       "      <td>1.0</td>\n",
       "      <td>62.0</td>\n",
       "      <td>BIM</td>\n",
       "    </tr>\n",
       "    <tr>\n",
       "      <th>3928462</th>\n",
       "      <td>32144</td>\n",
       "      <td>nit</td>\n",
       "      <td>NaN</td>\n",
       "      <td>620.0</td>\n",
       "      <td>BIM</td>\n",
       "    </tr>\n",
       "    <tr>\n",
       "      <th>5484853</th>\n",
       "      <td>34055</td>\n",
       "      <td>nit</td>\n",
       "      <td>1.0</td>\n",
       "      <td>62.0</td>\n",
       "      <td>BIM</td>\n",
       "    </tr>\n",
       "    <tr>\n",
       "      <th>5484865</th>\n",
       "      <td>46083</td>\n",
       "      <td>nit</td>\n",
       "      <td>4.0</td>\n",
       "      <td>248.0</td>\n",
       "      <td>BIM</td>\n",
       "    </tr>\n",
       "  </tbody>\n",
       "</table>\n",
       "</div>"
      ],
      "text/plain": [
       "         Producto_ID short_product_name  pieces  weight brand\n",
       "18             34053                nit     1.0    62.0   BIM\n",
       "21083           1278                nit     1.0    62.0   BIM\n",
       "159084         43342                nit     4.0   248.0   BIM\n",
       "159375         34054                nit     1.0    62.0   BIM\n",
       "1288104          630                nit     4.0   248.0   BIM\n",
       "2230749         2425                nit     1.0    62.0   BIM\n",
       "2338404        43206                nit     1.0    62.0   BIM\n",
       "3928462        32144                nit     NaN   620.0   BIM\n",
       "5484853        34055                nit     1.0    62.0   BIM\n",
       "5484865        46083                nit     4.0   248.0   BIM"
      ]
     },
     "execution_count": 11,
     "metadata": {},
     "output_type": "execute_result"
    }
   ],
   "source": [
    "columns = ['Producto_ID', 'short_product_name', 'pieces', 'weight', 'brand']\n",
    "indices = train.ix[train['short_product_name'] == 'nit', :].duplicated(subset = ['Producto_ID', 'short_product_name'], keep = 'first')\n",
    "indices = indices[indices == False]\n",
    "train.ix[indices.index, columns].head(n=10)"
   ]
  },
  {
   "cell_type": "markdown",
   "metadata": {},
   "source": [
    "Some of these products differ by weight and pieces. Let's dive deeper, and all look at nit products with same pieces and weight."
   ]
  },
  {
   "cell_type": "code",
   "execution_count": 12,
   "metadata": {
    "collapsed": false
   },
   "outputs": [
    {
     "data": {
      "text/html": [
       "<div>\n",
       "<table border=\"1\" class=\"dataframe\">\n",
       "  <thead>\n",
       "    <tr style=\"text-align: right;\">\n",
       "      <th></th>\n",
       "      <th>Producto_ID</th>\n",
       "      <th>short_product_name</th>\n",
       "      <th>pieces</th>\n",
       "      <th>weight</th>\n",
       "      <th>brand</th>\n",
       "    </tr>\n",
       "  </thead>\n",
       "  <tbody>\n",
       "    <tr>\n",
       "      <th>18</th>\n",
       "      <td>34053</td>\n",
       "      <td>nit</td>\n",
       "      <td>1.0</td>\n",
       "      <td>62.0</td>\n",
       "      <td>BIM</td>\n",
       "    </tr>\n",
       "    <tr>\n",
       "      <th>21083</th>\n",
       "      <td>1278</td>\n",
       "      <td>nit</td>\n",
       "      <td>1.0</td>\n",
       "      <td>62.0</td>\n",
       "      <td>BIM</td>\n",
       "    </tr>\n",
       "    <tr>\n",
       "      <th>159375</th>\n",
       "      <td>34054</td>\n",
       "      <td>nit</td>\n",
       "      <td>1.0</td>\n",
       "      <td>62.0</td>\n",
       "      <td>BIM</td>\n",
       "    </tr>\n",
       "    <tr>\n",
       "      <th>2230749</th>\n",
       "      <td>2425</td>\n",
       "      <td>nit</td>\n",
       "      <td>1.0</td>\n",
       "      <td>62.0</td>\n",
       "      <td>BIM</td>\n",
       "    </tr>\n",
       "    <tr>\n",
       "      <th>2338404</th>\n",
       "      <td>43206</td>\n",
       "      <td>nit</td>\n",
       "      <td>1.0</td>\n",
       "      <td>62.0</td>\n",
       "      <td>BIM</td>\n",
       "    </tr>\n",
       "    <tr>\n",
       "      <th>5484853</th>\n",
       "      <td>34055</td>\n",
       "      <td>nit</td>\n",
       "      <td>1.0</td>\n",
       "      <td>62.0</td>\n",
       "      <td>BIM</td>\n",
       "    </tr>\n",
       "    <tr>\n",
       "      <th>7343800</th>\n",
       "      <td>5052</td>\n",
       "      <td>nit</td>\n",
       "      <td>1.0</td>\n",
       "      <td>62.0</td>\n",
       "      <td>BIM</td>\n",
       "    </tr>\n",
       "    <tr>\n",
       "      <th>25500945</th>\n",
       "      <td>37159</td>\n",
       "      <td>nit</td>\n",
       "      <td>1.0</td>\n",
       "      <td>62.0</td>\n",
       "      <td>BIM</td>\n",
       "    </tr>\n",
       "  </tbody>\n",
       "</table>\n",
       "</div>"
      ],
      "text/plain": [
       "          Producto_ID short_product_name  pieces  weight brand\n",
       "18              34053                nit     1.0    62.0   BIM\n",
       "21083            1278                nit     1.0    62.0   BIM\n",
       "159375          34054                nit     1.0    62.0   BIM\n",
       "2230749          2425                nit     1.0    62.0   BIM\n",
       "2338404         43206                nit     1.0    62.0   BIM\n",
       "5484853         34055                nit     1.0    62.0   BIM\n",
       "7343800          5052                nit     1.0    62.0   BIM\n",
       "25500945        37159                nit     1.0    62.0   BIM"
      ]
     },
     "execution_count": 12,
     "metadata": {},
     "output_type": "execute_result"
    }
   ],
   "source": [
    "indices = train.ix[(train['short_product_name'] == 'nit') & (train['pieces'] == 1.0) & (train['weight'] == 62.0), :].duplicated(subset = \n",
    "                        ['Producto_ID', 'short_product_name'], keep = 'first')\n",
    "indices = indices[indices == False]\n",
    "train.ix[indices.index, columns]"
   ]
  },
  {
   "cell_type": "code",
   "execution_count": 13,
   "metadata": {
    "collapsed": false
   },
   "outputs": [
    {
     "name": "stdout",
     "output_type": "stream",
     "text": [
      "Unique Product Ids and Names:\n",
      "[34053  1278 43342 34054   630  2425 43206 32144 34055 46083  5052 37159]\n",
      "\n",
      "['Nito 1p 62g SP BIM 34053' 'Nito 1p 62g BIM 1278'\n",
      " 'Nito ME 4p 248g MTB BIM 43342' 'Nito 1p 62g SP MTB BIM 34054'\n",
      " 'Nito ME 4p 248g BIM 630' 'Nito 1p 62g Central BIM 2425'\n",
      " 'Nito 1p 62g MTB BIM 43206' 'Nito 620g Cj MTB BIM 32144'\n",
      " 'Nito 1p 62g SP TAB BIM 34055' 'Nito ME 4p 248g TAB BIM 46083'\n",
      " 'Nito 1p 62g Central TAB BIM 5052' 'Nito 1p 62g Central MTB BIM 37159']\n"
     ]
    }
   ],
   "source": [
    "print 'Unique Product Ids and Names:'\n",
    "print train.ix[train['short_product_name'] == 'nit', 'Producto_ID'].unique()\n",
    "print ''\n",
    "print train.ix[train['short_product_name'] == 'nit', 'NombreProducto'].unique()"
   ]
  },
  {
   "cell_type": "markdown",
   "metadata": {},
   "source": [
    "## Adding Client data to the Analysis"
   ]
  },
  {
   "cell_type": "markdown",
   "metadata": {},
   "source": [
    "Let's take a quick look at the data..."
   ]
  },
  {
   "cell_type": "code",
   "execution_count": 14,
   "metadata": {
    "collapsed": false
   },
   "outputs": [
    {
     "name": "stdout",
     "output_type": "stream",
     "text": [
      "(935362, 2)\n"
     ]
    }
   ],
   "source": [
    "print clients.shape"
   ]
  },
  {
   "cell_type": "code",
   "execution_count": 15,
   "metadata": {
    "collapsed": false
   },
   "outputs": [
    {
     "data": {
      "text/html": [
       "<div>\n",
       "<table border=\"1\" class=\"dataframe\">\n",
       "  <thead>\n",
       "    <tr style=\"text-align: right;\">\n",
       "      <th></th>\n",
       "      <th>Cliente_ID</th>\n",
       "      <th>NombreCliente</th>\n",
       "    </tr>\n",
       "  </thead>\n",
       "  <tbody>\n",
       "    <tr>\n",
       "      <th>0</th>\n",
       "      <td>0</td>\n",
       "      <td>SIN NOMBRE</td>\n",
       "    </tr>\n",
       "    <tr>\n",
       "      <th>1</th>\n",
       "      <td>1</td>\n",
       "      <td>OXXO XINANTECATL</td>\n",
       "    </tr>\n",
       "    <tr>\n",
       "      <th>2</th>\n",
       "      <td>2</td>\n",
       "      <td>SIN NOMBRE</td>\n",
       "    </tr>\n",
       "    <tr>\n",
       "      <th>3</th>\n",
       "      <td>3</td>\n",
       "      <td>EL MORENO</td>\n",
       "    </tr>\n",
       "    <tr>\n",
       "      <th>4</th>\n",
       "      <td>4</td>\n",
       "      <td>SDN SER  DE ALIM  CUERPO SA CIA  DE INT</td>\n",
       "    </tr>\n",
       "  </tbody>\n",
       "</table>\n",
       "</div>"
      ],
      "text/plain": [
       "   Cliente_ID                            NombreCliente\n",
       "0           0                               SIN NOMBRE\n",
       "1           1                         OXXO XINANTECATL\n",
       "2           2                               SIN NOMBRE\n",
       "3           3                                EL MORENO\n",
       "4           4  SDN SER  DE ALIM  CUERPO SA CIA  DE INT"
      ]
     },
     "execution_count": 15,
     "metadata": {},
     "output_type": "execute_result"
    }
   ],
   "source": [
    "clients.head()"
   ]
  },
  {
   "cell_type": "code",
   "execution_count": 16,
   "metadata": {
    "collapsed": false
   },
   "outputs": [],
   "source": [
    "# Remove duplicate ids\n",
    "def remove_duplicate_ids(clients): \n",
    "    \"\"\" Finds and removes duplicate ids from client data. Returns cleaned data.\n",
    "    \"\"\"\n",
    "    duplicate_ids = clients.duplicated(subset = 'Cliente_ID')    \n",
    "    clients = clients[duplicate_ids == False]    \n",
    "    return clients\n",
    "\n",
    "clients = remove_duplicate_ids(clients)  "
   ]
  },
  {
   "cell_type": "code",
   "execution_count": 17,
   "metadata": {
    "collapsed": false
   },
   "outputs": [
    {
     "data": {
      "text/plain": [
       "(930500, 2)"
      ]
     },
     "execution_count": 17,
     "metadata": {},
     "output_type": "execute_result"
    }
   ],
   "source": [
    "clients.shape"
   ]
  },
  {
   "cell_type": "code",
   "execution_count": 18,
   "metadata": {
    "collapsed": false
   },
   "outputs": [
    {
     "data": {
      "text/html": [
       "<div>\n",
       "<table border=\"1\" class=\"dataframe\">\n",
       "  <thead>\n",
       "    <tr style=\"text-align: right;\">\n",
       "      <th></th>\n",
       "      <th>Cliente_ID</th>\n",
       "      <th>NombreCliente</th>\n",
       "    </tr>\n",
       "  </thead>\n",
       "  <tbody>\n",
       "    <tr>\n",
       "      <th>0</th>\n",
       "      <td>0</td>\n",
       "      <td>SIN NOMBRE</td>\n",
       "    </tr>\n",
       "    <tr>\n",
       "      <th>1</th>\n",
       "      <td>1</td>\n",
       "      <td>OXXO XINANTECATL</td>\n",
       "    </tr>\n",
       "    <tr>\n",
       "      <th>2</th>\n",
       "      <td>2</td>\n",
       "      <td>SIN NOMBRE</td>\n",
       "    </tr>\n",
       "    <tr>\n",
       "      <th>3</th>\n",
       "      <td>3</td>\n",
       "      <td>EL MORENO</td>\n",
       "    </tr>\n",
       "    <tr>\n",
       "      <th>4</th>\n",
       "      <td>4</td>\n",
       "      <td>SDN SER  DE ALIM  CUERPO SA CIA  DE INT</td>\n",
       "    </tr>\n",
       "  </tbody>\n",
       "</table>\n",
       "</div>"
      ],
      "text/plain": [
       "   Cliente_ID                            NombreCliente\n",
       "0           0                               SIN NOMBRE\n",
       "1           1                         OXXO XINANTECATL\n",
       "2           2                               SIN NOMBRE\n",
       "3           3                                EL MORENO\n",
       "4           4  SDN SER  DE ALIM  CUERPO SA CIA  DE INT"
      ]
     },
     "execution_count": 18,
     "metadata": {},
     "output_type": "execute_result"
    }
   ],
   "source": [
    "clients.head()"
   ]
  },
  {
   "cell_type": "markdown",
   "metadata": {},
   "source": [
    "Client ID 0 and 2 have the same client name 'SIN NOMBRE' which translates to 'No Name'."
   ]
  },
  {
   "cell_type": "code",
   "execution_count": 19,
   "metadata": {
    "collapsed": false
   },
   "outputs": [
    {
     "name": "stdout",
     "output_type": "stream",
     "text": [
      "# Unique Cliente_ID: 930500\n",
      "# Unique NombreCliente: 307009\n"
     ]
    }
   ],
   "source": [
    "print '# Unique Cliente_ID: ' + str(len(clients['Cliente_ID'].unique()))\n",
    "print '# Unique NombreCliente: ' + str(len(clients['NombreCliente'].unique()))"
   ]
  },
  {
   "cell_type": "markdown",
   "metadata": {
    "collapsed": false
   },
   "source": [
    "That's a lot of unique client names. Let's see if we can find similarities and group some of them into similar categories..."
   ]
  },
  {
   "cell_type": "markdown",
   "metadata": {},
   "source": [
    "Let's look at frequencies of client names..."
   ]
  },
  {
   "cell_type": "code",
   "execution_count": 20,
   "metadata": {
    "collapsed": false
   },
   "outputs": [
    {
     "data": {
      "text/html": [
       "<div>\n",
       "<table border=\"1\" class=\"dataframe\">\n",
       "  <thead>\n",
       "    <tr style=\"text-align: right;\">\n",
       "      <th></th>\n",
       "      <th>NombreCliente</th>\n",
       "      <th>Frequency</th>\n",
       "      <th>Pct</th>\n",
       "    </tr>\n",
       "  </thead>\n",
       "  <tbody>\n",
       "    <tr>\n",
       "      <th>227063</th>\n",
       "      <td>NO IDENTIFICADO</td>\n",
       "      <td>281670</td>\n",
       "      <td>30.270822</td>\n",
       "    </tr>\n",
       "    <tr>\n",
       "      <th>178995</th>\n",
       "      <td>LUPITA</td>\n",
       "      <td>4863</td>\n",
       "      <td>0.522622</td>\n",
       "    </tr>\n",
       "    <tr>\n",
       "      <th>203200</th>\n",
       "      <td>MARY</td>\n",
       "      <td>3016</td>\n",
       "      <td>0.324127</td>\n",
       "    </tr>\n",
       "    <tr>\n",
       "      <th>163963</th>\n",
       "      <td>LA PASADITA</td>\n",
       "      <td>2426</td>\n",
       "      <td>0.260720</td>\n",
       "    </tr>\n",
       "    <tr>\n",
       "      <th>165834</th>\n",
       "      <td>LA VENTANITA</td>\n",
       "      <td>2267</td>\n",
       "      <td>0.243632</td>\n",
       "    </tr>\n",
       "    <tr>\n",
       "      <th>162357</th>\n",
       "      <td>LA GUADALUPANA</td>\n",
       "      <td>1299</td>\n",
       "      <td>0.139602</td>\n",
       "    </tr>\n",
       "    <tr>\n",
       "      <th>265099</th>\n",
       "      <td>ROSY</td>\n",
       "      <td>1245</td>\n",
       "      <td>0.133799</td>\n",
       "    </tr>\n",
       "    <tr>\n",
       "      <th>20891</th>\n",
       "      <td>ALEX</td>\n",
       "      <td>1242</td>\n",
       "      <td>0.133477</td>\n",
       "    </tr>\n",
       "    <tr>\n",
       "      <th>120794</th>\n",
       "      <td>GABY</td>\n",
       "      <td>1238</td>\n",
       "      <td>0.133047</td>\n",
       "    </tr>\n",
       "    <tr>\n",
       "      <th>161465</th>\n",
       "      <td>LA ESCONDIDA</td>\n",
       "      <td>1216</td>\n",
       "      <td>0.130682</td>\n",
       "    </tr>\n",
       "    <tr>\n",
       "      <th>243004</th>\n",
       "      <td>PATY</td>\n",
       "      <td>1145</td>\n",
       "      <td>0.123052</td>\n",
       "    </tr>\n",
       "    <tr>\n",
       "      <th>161523</th>\n",
       "      <td>LA ESPERANZA</td>\n",
       "      <td>1139</td>\n",
       "      <td>0.122407</td>\n",
       "    </tr>\n",
       "    <tr>\n",
       "      <th>132632</th>\n",
       "      <td>HERNANDEZ</td>\n",
       "      <td>1129</td>\n",
       "      <td>0.121333</td>\n",
       "    </tr>\n",
       "    <tr>\n",
       "      <th>160779</th>\n",
       "      <td>LA CHIQUITA</td>\n",
       "      <td>1116</td>\n",
       "      <td>0.119936</td>\n",
       "    </tr>\n",
       "    <tr>\n",
       "      <th>75432</th>\n",
       "      <td>DANY</td>\n",
       "      <td>1082</td>\n",
       "      <td>0.116282</td>\n",
       "    </tr>\n",
       "    <tr>\n",
       "      <th>121096</th>\n",
       "      <td>GARCIA</td>\n",
       "      <td>1062</td>\n",
       "      <td>0.114132</td>\n",
       "    </tr>\n",
       "    <tr>\n",
       "      <th>157729</th>\n",
       "      <td>JUQUILITA</td>\n",
       "      <td>1022</td>\n",
       "      <td>0.109833</td>\n",
       "    </tr>\n",
       "    <tr>\n",
       "      <th>203085</th>\n",
       "      <td>MARTINEZ</td>\n",
       "      <td>987</td>\n",
       "      <td>0.106072</td>\n",
       "    </tr>\n",
       "    <tr>\n",
       "      <th>165394</th>\n",
       "      <td>LA TIENDITA</td>\n",
       "      <td>914</td>\n",
       "      <td>0.098227</td>\n",
       "    </tr>\n",
       "    <tr>\n",
       "      <th>454</th>\n",
       "      <td>3 HERMANOS</td>\n",
       "      <td>913</td>\n",
       "      <td>0.098119</td>\n",
       "    </tr>\n",
       "    <tr>\n",
       "      <th>78821</th>\n",
       "      <td>DIANA</td>\n",
       "      <td>894</td>\n",
       "      <td>0.096077</td>\n",
       "    </tr>\n",
       "    <tr>\n",
       "      <th>207559</th>\n",
       "      <td>MI TIENDITA</td>\n",
       "      <td>881</td>\n",
       "      <td>0.094680</td>\n",
       "    </tr>\n",
       "    <tr>\n",
       "      <th>268167</th>\n",
       "      <td>SAN JOSE</td>\n",
       "      <td>851</td>\n",
       "      <td>0.091456</td>\n",
       "    </tr>\n",
       "    <tr>\n",
       "      <th>164529</th>\n",
       "      <td>LA PROVIDENCIA</td>\n",
       "      <td>842</td>\n",
       "      <td>0.090489</td>\n",
       "    </tr>\n",
       "    <tr>\n",
       "      <th>124328</th>\n",
       "      <td>GONZALEZ</td>\n",
       "      <td>825</td>\n",
       "      <td>0.088662</td>\n",
       "    </tr>\n",
       "    <tr>\n",
       "      <th>79028</th>\n",
       "      <td>DICONSA</td>\n",
       "      <td>823</td>\n",
       "      <td>0.088447</td>\n",
       "    </tr>\n",
       "    <tr>\n",
       "      <th>161562</th>\n",
       "      <td>LA ESQUINA</td>\n",
       "      <td>816</td>\n",
       "      <td>0.087695</td>\n",
       "    </tr>\n",
       "    <tr>\n",
       "      <th>177685</th>\n",
       "      <td>LUCY</td>\n",
       "      <td>792</td>\n",
       "      <td>0.085116</td>\n",
       "    </tr>\n",
       "    <tr>\n",
       "      <th>170198</th>\n",
       "      <td>LETY</td>\n",
       "      <td>776</td>\n",
       "      <td>0.083396</td>\n",
       "    </tr>\n",
       "    <tr>\n",
       "      <th>123274</th>\n",
       "      <td>GLORIA</td>\n",
       "      <td>714</td>\n",
       "      <td>0.076733</td>\n",
       "    </tr>\n",
       "  </tbody>\n",
       "</table>\n",
       "</div>"
      ],
      "text/plain": [
       "          NombreCliente  Frequency        Pct\n",
       "227063  NO IDENTIFICADO     281670  30.270822\n",
       "178995           LUPITA       4863   0.522622\n",
       "203200             MARY       3016   0.324127\n",
       "163963      LA PASADITA       2426   0.260720\n",
       "165834     LA VENTANITA       2267   0.243632\n",
       "162357   LA GUADALUPANA       1299   0.139602\n",
       "265099             ROSY       1245   0.133799\n",
       "20891              ALEX       1242   0.133477\n",
       "120794             GABY       1238   0.133047\n",
       "161465     LA ESCONDIDA       1216   0.130682\n",
       "243004             PATY       1145   0.123052\n",
       "161523     LA ESPERANZA       1139   0.122407\n",
       "132632        HERNANDEZ       1129   0.121333\n",
       "160779      LA CHIQUITA       1116   0.119936\n",
       "75432              DANY       1082   0.116282\n",
       "121096           GARCIA       1062   0.114132\n",
       "157729        JUQUILITA       1022   0.109833\n",
       "203085         MARTINEZ        987   0.106072\n",
       "165394      LA TIENDITA        914   0.098227\n",
       "454          3 HERMANOS        913   0.098119\n",
       "78821             DIANA        894   0.096077\n",
       "207559      MI TIENDITA        881   0.094680\n",
       "268167         SAN JOSE        851   0.091456\n",
       "164529   LA PROVIDENCIA        842   0.090489\n",
       "124328         GONZALEZ        825   0.088662\n",
       "79028           DICONSA        823   0.088447\n",
       "161562       LA ESQUINA        816   0.087695\n",
       "177685             LUCY        792   0.085116\n",
       "170198             LETY        776   0.083396\n",
       "123274           GLORIA        714   0.076733"
      ]
     },
     "execution_count": 20,
     "metadata": {},
     "output_type": "execute_result"
    }
   ],
   "source": [
    "common_client_names = pd.DataFrame({'Frequency': clients.groupby(['NombreCliente'])['NombreCliente'].count()}).reset_index()\n",
    "common_client_names['Pct'] = 100.0 * common_client_names['Frequency'] / common_client_names['Frequency'].sum()\n",
    "common_client_names = common_client_names.sort_values(by = 'Frequency', ascending = False)\n",
    "common_client_names.head(n=30)"
   ]
  },
  {
   "cell_type": "markdown",
   "metadata": {},
   "source": [
    "'NO IDENTIFICADO' (Not Identified) occurs in over 30% of client names. Many of the other common names are colloquial names like Mary, Rosy, Alex, or Gaby. Other client names contain contain stopwords like 'EL' and 'LA' (means 'the' in Spanish). Let's remove these stopwords, and stem words ('TIENDITA' means 'little store')."
   ]
  },
  {
   "cell_type": "code",
   "execution_count": 21,
   "metadata": {
    "collapsed": true
   },
   "outputs": [],
   "source": [
    "# Import libraries for handling text data\n",
    "import re\n",
    "from nltk import word_tokenize\n",
    "from nltk.stem import SnowballStemmer\n",
    "from nltk.corpus import stopwords\n",
    "stemmer = SnowballStemmer('spanish')"
   ]
  },
  {
   "cell_type": "code",
   "execution_count": 22,
   "metadata": {
    "collapsed": false
   },
   "outputs": [
    {
     "data": {
      "text/html": [
       "<div>\n",
       "<table border=\"1\" class=\"dataframe\">\n",
       "  <thead>\n",
       "    <tr style=\"text-align: right;\">\n",
       "      <th></th>\n",
       "      <th>Cliente_ID</th>\n",
       "      <th>NombreCliente</th>\n",
       "      <th>Client_Type</th>\n",
       "    </tr>\n",
       "  </thead>\n",
       "  <tbody>\n",
       "    <tr>\n",
       "      <th>0</th>\n",
       "      <td>0</td>\n",
       "      <td>SIN NOMBRE</td>\n",
       "      <td>sin nombre</td>\n",
       "    </tr>\n",
       "    <tr>\n",
       "      <th>1</th>\n",
       "      <td>1</td>\n",
       "      <td>OXXO XINANTECATL</td>\n",
       "      <td>oxxo xinantecatl</td>\n",
       "    </tr>\n",
       "    <tr>\n",
       "      <th>2</th>\n",
       "      <td>2</td>\n",
       "      <td>SIN NOMBRE</td>\n",
       "      <td>sin nombre</td>\n",
       "    </tr>\n",
       "    <tr>\n",
       "      <th>3</th>\n",
       "      <td>3</td>\n",
       "      <td>EL MORENO</td>\n",
       "      <td>el moreno</td>\n",
       "    </tr>\n",
       "    <tr>\n",
       "      <th>4</th>\n",
       "      <td>4</td>\n",
       "      <td>SDN SER  DE ALIM  CUERPO SA CIA  DE INT</td>\n",
       "      <td>sdn ser  de alim  cuerpo sa cia  de int</td>\n",
       "    </tr>\n",
       "  </tbody>\n",
       "</table>\n",
       "</div>"
      ],
      "text/plain": [
       "   Cliente_ID                            NombreCliente  \\\n",
       "0           0                               SIN NOMBRE   \n",
       "1           1                         OXXO XINANTECATL   \n",
       "2           2                               SIN NOMBRE   \n",
       "3           3                                EL MORENO   \n",
       "4           4  SDN SER  DE ALIM  CUERPO SA CIA  DE INT   \n",
       "\n",
       "                               Client_Type  \n",
       "0                               sin nombre  \n",
       "1                         oxxo xinantecatl  \n",
       "2                               sin nombre  \n",
       "3                                el moreno  \n",
       "4  sdn ser  de alim  cuerpo sa cia  de int  "
      ]
     },
     "execution_count": 22,
     "metadata": {},
     "output_type": "execute_result"
    }
   ],
   "source": [
    "# Create copy of NombreCliente named Client_Type\n",
    "# Convert to lowercase\n",
    "clients['Client_Type'] = clients['NombreCliente'].str.lower()\n",
    "clients.head()"
   ]
  },
  {
   "cell_type": "code",
   "execution_count": 23,
   "metadata": {
    "collapsed": false
   },
   "outputs": [
    {
     "data": {
      "text/plain": [
       "['sin nombre',\n",
       " 'oxxo xinantecatl',\n",
       " 'sin nombre',\n",
       " 'el moreno',\n",
       " 'sdn ser de alim cuerpo sa cia de int',\n",
       " 'la vaquita',\n",
       " 'lupita',\n",
       " 'i m el guero',\n",
       " 'mini super los lupes',\n",
       " 'super kompras micro colon']"
      ]
     },
     "execution_count": 23,
     "metadata": {},
     "output_type": "execute_result"
    }
   ],
   "source": [
    "# Split words in Client_Type variable\n",
    "nombre_split = clients['Client_Type'].str.split()\n",
    "    \n",
    "# Remove empty spaces from names\n",
    "nombre_no_spaces = [\" \".join(x) for x in nombre_split]     \n",
    "nombre_no_spaces[0:10]\n",
    "\n",
    "# Remove non-letters and replace numbers\n",
    "nombre_no_spaces = [re.sub('[^A-Za-z0-9]+', ' ', x) for x in nombre_no_spaces]   \n",
    "nombre_no_spaces = [re.sub('[0-9]+', 'NUM', x) for x in nombre_no_spaces]\n",
    "nombre_no_spaces[0:10]"
   ]
  },
  {
   "cell_type": "code",
   "execution_count": 24,
   "metadata": {
    "collapsed": false
   },
   "outputs": [
    {
     "data": {
      "text/plain": [
       "[[u'sin', u'nombr'],\n",
       " [u'oxxo', u'xinantecatl'],\n",
       " [u'sin', u'nombr'],\n",
       " [u'el', u'moren'],\n",
       " [u'sdn', u'ser', u'de', u'alim', u'cuerpo', u'sa', u'cia', u'de', u'int'],\n",
       " [u'la', u'vaquit'],\n",
       " [u'lupit'],\n",
       " [u'i', u'm', u'el', u'guer'],\n",
       " [u'mini', u'super', u'los', u'lup'],\n",
       " [u'super', u'kompras', u'micro', u'colon']]"
      ]
     },
     "execution_count": 24,
     "metadata": {},
     "output_type": "execute_result"
    }
   ],
   "source": [
    "# Stem and tokenize words \n",
    "nombre_stem = [stemmer.stem(x) for x in nombre_no_spaces]\n",
    "nombre_tokenized = [word_tokenize(x) for x in nombre_stem]\n",
    "nombre_tokenized[0:10]"
   ]
  },
  {
   "cell_type": "code",
   "execution_count": 25,
   "metadata": {
    "collapsed": false
   },
   "outputs": [
    {
     "data": {
      "text/plain": [
       "['nombre',\n",
       " 'oxxo xinantecatl',\n",
       " 'nombre',\n",
       " 'moreno',\n",
       " 'sdn ser alim cuerpo sa cia int',\n",
       " 'vaquita',\n",
       " 'lupita',\n",
       " 'i m guero',\n",
       " 'mini super lupes',\n",
       " 'super kompras micro colon',\n",
       " 'lonja mercantil',\n",
       " 'farmacia nicolas san juan',\n",
       " 'papeleria catala',\n",
       " 'elena',\n",
       " 'casa trino',\n",
       " 'fma035947 bimbo sa cv',\n",
       " 'joys',\n",
       " 'marco',\n",
       " 'lupes ii',\n",
       " 'tiendita',\n",
       " 'fma026712 tecnoautomotriz atlacomulco s',\n",
       " 'abarrotes ivan',\n",
       " 'garnica',\n",
       " 'fma026709 bucirus bladas mexico sa',\n",
       " 'fma026248 proveedora norte',\n",
       " 'carrosita',\n",
       " 'bodega comercial mexicana toluca',\n",
       " 'marquez',\n",
       " 'fma033097 automotriz mexicana s c',\n",
       " 'jose aguilar catalan']"
      ]
     },
     "execution_count": 25,
     "metadata": {},
     "output_type": "execute_result"
    }
   ],
   "source": [
    "# Remove stop words\n",
    "nombre_tokenized = [word_tokenize(x) for x in clients.ix[:, 'Client_Type']]\n",
    "stops = set(stopwords.words(\"spanish\"))\n",
    "nombre_cleaned = [[w for w in i if not w in stops] for i in nombre_tokenized] \n",
    "nombre_cleaned = [\" \".join(x) for x in nombre_cleaned]  \n",
    "nombre_cleaned[0:30]"
   ]
  },
  {
   "cell_type": "markdown",
   "metadata": {},
   "source": [
    "Let's take at some of names that contain the words 'oxxo', 'abarrotes', and 'super'. A quick Google search reveals that 'oxxo' is a chain of convenience stores in Mexico, and 'abarrotes' translates to 'grocery', and 'super' is a word you might see referring to a super-market."
   ]
  },
  {
   "cell_type": "code",
   "execution_count": 26,
   "metadata": {
    "collapsed": false
   },
   "outputs": [
    {
     "name": "stdout",
     "output_type": "stream",
     "text": [
      "oxxo : \n",
      "['oxxo xinantecatl', 'oxxo san carlos', 'oxxo mora', 'oxxo 5 mayo', 'oxxo san sebastian', 'oxxo san javier', 'oxxo carranza', 'oxxo padre mier', 'amoxxo bernardo reyes', 'oxxo tapia', 'oxxo madero terminal', 'oxxo cintermex', 'oxxo pino suarez ii', 'oxxo ruperto martinez', 'oxxo regina', 'oxxo satelite', 'oxxo mederos', 'oxxo condominio', 'oxxo estanzuela 1', 'oxxo prado']\n",
      "# Names Appears: 9276\n",
      "\n",
      "abarrotes : \n",
      "['abarrotes ivan', 'vinos abarrotes jose', 'abarrotes lupita', 'dulceria abarrotes m t', 'super abarrotes', 'abarrotes profe', 'abarrotes rosario', 'tortilleria abarrotes lourdes', 'abarrotestianguistecanos s c v', 'abarrotes monarca', 'abarrotes ramon ortiz', 'abarrotes chavez', 'abarrotes ballon', 'abarrotes rancho', 'abarrotes elizabeth', 'abarrotes lumbreras', 'abarrotes pesadita', 'abarrotes garza', 'abarrotes licha', 'abarrotes vicky']\n",
      "# Names Appears: 32871\n",
      "\n",
      "super : \n",
      "['mini super lupes', 'super kompras micro colon', 'super kompras pino suarez', 'super kompras san buenaventura', 'super kompras asuncion', 'super mundo', 'super ada', 'escuela superior comercio', 'super kompras tollocan', 'super estevez', 'minisuper carmona', 'super kompras micro santa barbara', 'super abarrotes', 'minisuper independencia', 'mini super nunez', 'mini super bueno', 'super mercado hormadi sa cv', 'super 10', 'super f', 'super centro']\n",
      "# Names Appears: 16736\n",
      "\n"
     ]
    }
   ],
   "source": [
    "words = ['oxxo', 'abarrotes', 'super']\n",
    "for word in words: \n",
    "    print word + ' : '\n",
    "    nombre_contains = [(word in x) for x in nombre_cleaned]  \n",
    "    indices = [n for n, x in enumerate(nombre_contains) if x == True]  \n",
    "    temp = [nombre_cleaned[i] for i in indices]\n",
    "    print temp[0:20]    \n",
    "    print '# Names Appears: ' + str(len(indices))\n",
    "    print ''"
   ]
  },
  {
   "cell_type": "markdown",
   "metadata": {},
   "source": [
    "'oxxo' occurs in 9,276 names, 'abarrotes' in 32,871, and 'super' in 16,736 names. These seem like easy things to group into separate categories. Another Kaggler did a more thorough investigation of client names decided to group all names into one of 16 different categories: \n",
    "1. Individual,\n",
    "2. Oxxo Store\n",
    "3. Small Franchise\n",
    "4. Supermarket\n",
    "5. Hospital/Pharmacy\n",
    "6. Eatery\n",
    "7. Bimbo Store\n",
    "8. General Market/Mart\n",
    "9. Hotel\n",
    "10. School\n",
    "11. Walmart \n",
    "12. Govt Store\n",
    "13. Post \n",
    "14. Fresh Market\n",
    "15. Consignment\n",
    "16. NO IDENTIFICADO"
   ]
  },
  {
   "cell_type": "markdown",
   "metadata": {},
   "source": [
    "I thought the analysis was very well done and decided to incorporate this variable into my analysis. All credit for creating this variable goes to the Kaggler who created it: https://www.kaggle.com/abbysobh/grupo-bimbo-inventory-demand/classifying-client-type-using-client-names"
   ]
  },
  {
   "cell_type": "markdown",
   "metadata": {},
   "source": [
    "I have adapted some of his code for my purposes below:"
   ]
  },
  {
   "cell_type": "code",
   "execution_count": 27,
   "metadata": {
    "collapsed": true
   },
   "outputs": [],
   "source": [
    "def create_client_features(clients):\n",
    "    \"\"\" Creates new variable 'Client_Type' by categorizing NombreCliente\n",
    "    \"\"\"\n",
    "    \n",
    "    # Remove duplicate ids\n",
    "    clients = remove_duplicate_ids(clients)    \n",
    "    \n",
    "    # Create new feature\n",
    "    clients = clients.copy()\n",
    "    clients['Client_Type'] = clients.ix[:, 'NombreCliente']    \n",
    "    \n",
    "    # Convert to all UPPER-CASE\n",
    "    clients.ix[:, 'Client_Type'] = clients.ix[:, 'Client_Type'].str.upper()\n",
    "    \n",
    "    # Known Large Company / Special Group Types\n",
    "    clients.ix[:, 'Client_Type'] = clients.ix[:, 'Client_Type'].str.replace('.*REMISION.*','Consignment')\n",
    "    clients.ix[:, 'Client_Type'] = clients.ix[:, 'Client_Type'].replace(['.*WAL MART.*','.*SAMS CLUB.*'],'Walmart', regex=True)\n",
    "    clients.ix[:, 'Client_Type'] = clients.ix[:, 'Client_Type'].str.replace('.*OXXO.*','Oxxo Store')\n",
    "    clients.ix[:, 'Client_Type'] = clients.ix[:, 'Client_Type'].str.replace('.*CONASUPO.*','Govt Store')\n",
    "    clients.ix[:, 'Client_Type'] = clients.ix[:, 'Client_Type'].str.replace('.*BIMBO.*','Bimbo Store')\n",
    "    \n",
    "    # Term search for assortment of words picked from looking at their frequencies\n",
    "    clients.ix[:, 'Client_Type'] = clients.ix[:, 'Client_Type'].replace(['.*COLEG.*','.*UNIV.*','.*ESCU.*','.*INSTI.*',\\\n",
    "                                                        '.*PREPAR.*'],'School', regex=True)\n",
    "    clients.ix[:, 'Client_Type'] = clients.ix[:, 'Client_Type'].str.replace('.*PUESTO.*','Post')\n",
    "    clients.ix[:, 'Client_Type'] = clients.ix[:, 'Client_Type'].replace(['.*FARMA.*','.*HOSPITAL.*','.*CLINI.*'],'Hospital/Pharmacy', regex=True)\n",
    "    clients.ix[:, 'Client_Type'] = clients.ix[:, 'Client_Type'].replace(['.*CAFE.*','.*CREMERIA.*','.*DULCERIA.*',\\\n",
    "                                                        '.*REST.*','.*BURGER.*','.*TACO.*', '.*TORTA.*',\\\n",
    "                                                        '.*TAQUER.*','.*HOT DOG.*',\\\n",
    "                                                        '.*COMEDOR.*', '.*ERIA.*','.*BURGU.*'],'Eatery', regex=True)\n",
    "    clients.ix[:, 'Client_Type'] = clients.ix[:, 'Client_Type'].str.replace('.*SUPER.*','Supermarket')\n",
    "    clients.ix[:, 'Client_Type'] = clients.ix[:, 'Client_Type'].replace(['.*COMERCIAL.*','.*BODEGA.*','.*DEPOSITO.*',\\\n",
    "                                                            '.*ABARROTES.*','.*MERCADO.*','.*CAMBIO.*',\\\n",
    "                                                        '.*MARKET.*','.*MART .*','.*MINI .*',\\\n",
    "                                                        '.*PLAZA.*','.*MISC.*','.*ELEVEN.*','.*EXP.*',\\\n",
    "                                                         '.*SNACK.*', '.*PAPELERIA.*', '.*CARNICERIA.*',\\\n",
    "                                                         '.*LOCAL.*','.*COMODIN.*','.*PROVIDENCIA.*'\n",
    "                                                        ],'General Market/Mart'\\\n",
    "                                                       , regex=True)                                                   \n",
    "    clients.ix[:, 'Client_Type'] = clients.ix[:, 'Client_Type'].replace(['.*VERDU.*','.*FRUT.*'],'Fresh Market', regex=True)\n",
    "    clients.ix[:, 'Client_Type'] = clients.ix[:, 'Client_Type'].replace(['.*HOTEL.*','.*MOTEL.*'],'Hotel', regex=True)    \n",
    " \n",
    "    # Filter participles\n",
    "    clients.ix[:, 'Client_Type'] = clients.ix[:, 'Client_Type'].replace([\n",
    "            '.*LA .*','.*EL .*','.*DE .*','.*LOS .*','.*DEL .*','.*Y .*', '.*SAN .*', '.*SANTA .*',\\\n",
    "            '.*AG .*','.*LAS .*','.*MI .*','.*MA .*', '.*II.*', '.*[0-9]+.*'\\\n",
    "                ],'Small Franchise', regex=True)\n",
    "               \n",
    "    # Everything else bucketed into 'Individual'\n",
    "    def filter_remaining(clients):\n",
    "        def function_word(data):\n",
    "            # Avoid the single-words created so far by checking for upper-case\n",
    "            if (data.isupper()) and (data != \"NO IDENTIFICADO\"): \n",
    "                return 'Individual'\n",
    "            else:\n",
    "                return data\n",
    "        clients.ix[:, 'Client_Type'] = clients.ix[:, 'Client_Type'].map(function_word)\n",
    "    filter_remaining(clients)\n",
    "    \n",
    "    # Return data\n",
    "    return clients"
   ]
  },
  {
   "cell_type": "code",
   "execution_count": 28,
   "metadata": {
    "collapsed": false
   },
   "outputs": [
    {
     "data": {
      "text/html": [
       "<div>\n",
       "<table border=\"1\" class=\"dataframe\">\n",
       "  <thead>\n",
       "    <tr style=\"text-align: right;\">\n",
       "      <th></th>\n",
       "      <th>Cliente_ID</th>\n",
       "      <th>NombreCliente</th>\n",
       "      <th>Client_Type</th>\n",
       "    </tr>\n",
       "  </thead>\n",
       "  <tbody>\n",
       "    <tr>\n",
       "      <th>0</th>\n",
       "      <td>0</td>\n",
       "      <td>SIN NOMBRE</td>\n",
       "      <td>Individual</td>\n",
       "    </tr>\n",
       "    <tr>\n",
       "      <th>1</th>\n",
       "      <td>1</td>\n",
       "      <td>OXXO XINANTECATL</td>\n",
       "      <td>Oxxo Store</td>\n",
       "    </tr>\n",
       "    <tr>\n",
       "      <th>2</th>\n",
       "      <td>2</td>\n",
       "      <td>SIN NOMBRE</td>\n",
       "      <td>Individual</td>\n",
       "    </tr>\n",
       "    <tr>\n",
       "      <th>3</th>\n",
       "      <td>3</td>\n",
       "      <td>EL MORENO</td>\n",
       "      <td>Small Franchise</td>\n",
       "    </tr>\n",
       "    <tr>\n",
       "      <th>4</th>\n",
       "      <td>4</td>\n",
       "      <td>SDN SER  DE ALIM  CUERPO SA CIA  DE INT</td>\n",
       "      <td>Small Franchise</td>\n",
       "    </tr>\n",
       "  </tbody>\n",
       "</table>\n",
       "</div>"
      ],
      "text/plain": [
       "   Cliente_ID                            NombreCliente      Client_Type\n",
       "0           0                               SIN NOMBRE       Individual\n",
       "1           1                         OXXO XINANTECATL       Oxxo Store\n",
       "2           2                               SIN NOMBRE       Individual\n",
       "3           3                                EL MORENO  Small Franchise\n",
       "4           4  SDN SER  DE ALIM  CUERPO SA CIA  DE INT  Small Franchise"
      ]
     },
     "execution_count": 28,
     "metadata": {},
     "output_type": "execute_result"
    }
   ],
   "source": [
    "clients = create_client_features(clients)\n",
    "clients.head()"
   ]
  },
  {
   "cell_type": "markdown",
   "metadata": {},
   "source": [
    "Let's look the frequencies of our new categories..."
   ]
  },
  {
   "cell_type": "code",
   "execution_count": 29,
   "metadata": {
    "collapsed": false,
    "scrolled": true
   },
   "outputs": [
    {
     "name": "stdout",
     "output_type": "stream",
     "text": [
      "# Unique Client_Type: 16\n"
     ]
    },
    {
     "data": {
      "text/html": [
       "<div>\n",
       "<table border=\"1\" class=\"dataframe\">\n",
       "  <thead>\n",
       "    <tr style=\"text-align: right;\">\n",
       "      <th></th>\n",
       "      <th>Client_Type</th>\n",
       "      <th>Frequency</th>\n",
       "      <th>Pct</th>\n",
       "    </tr>\n",
       "  </thead>\n",
       "  <tbody>\n",
       "    <tr>\n",
       "      <th>8</th>\n",
       "      <td>Individual</td>\n",
       "      <td>351908</td>\n",
       "      <td>37.819237</td>\n",
       "    </tr>\n",
       "    <tr>\n",
       "      <th>9</th>\n",
       "      <td>NO IDENTIFICADO</td>\n",
       "      <td>281670</td>\n",
       "      <td>30.270822</td>\n",
       "    </tr>\n",
       "    <tr>\n",
       "      <th>13</th>\n",
       "      <td>Small Franchise</td>\n",
       "      <td>158357</td>\n",
       "      <td>17.018485</td>\n",
       "    </tr>\n",
       "    <tr>\n",
       "      <th>4</th>\n",
       "      <td>General Market/Mart</td>\n",
       "      <td>65516</td>\n",
       "      <td>7.040946</td>\n",
       "    </tr>\n",
       "    <tr>\n",
       "      <th>2</th>\n",
       "      <td>Eatery</td>\n",
       "      <td>30277</td>\n",
       "      <td>3.253842</td>\n",
       "    </tr>\n",
       "    <tr>\n",
       "      <th>14</th>\n",
       "      <td>Supermarket</td>\n",
       "      <td>15911</td>\n",
       "      <td>1.709941</td>\n",
       "    </tr>\n",
       "    <tr>\n",
       "      <th>10</th>\n",
       "      <td>Oxxo Store</td>\n",
       "      <td>9276</td>\n",
       "      <td>0.996883</td>\n",
       "    </tr>\n",
       "    <tr>\n",
       "      <th>6</th>\n",
       "      <td>Hospital/Pharmacy</td>\n",
       "      <td>5693</td>\n",
       "      <td>0.611822</td>\n",
       "    </tr>\n",
       "    <tr>\n",
       "      <th>12</th>\n",
       "      <td>School</td>\n",
       "      <td>5562</td>\n",
       "      <td>0.597743</td>\n",
       "    </tr>\n",
       "    <tr>\n",
       "      <th>11</th>\n",
       "      <td>Post</td>\n",
       "      <td>2658</td>\n",
       "      <td>0.285653</td>\n",
       "    </tr>\n",
       "    <tr>\n",
       "      <th>7</th>\n",
       "      <td>Hotel</td>\n",
       "      <td>1104</td>\n",
       "      <td>0.118646</td>\n",
       "    </tr>\n",
       "    <tr>\n",
       "      <th>3</th>\n",
       "      <td>Fresh Market</td>\n",
       "      <td>1060</td>\n",
       "      <td>0.113917</td>\n",
       "    </tr>\n",
       "    <tr>\n",
       "      <th>5</th>\n",
       "      <td>Govt Store</td>\n",
       "      <td>958</td>\n",
       "      <td>0.102955</td>\n",
       "    </tr>\n",
       "    <tr>\n",
       "      <th>0</th>\n",
       "      <td>Bimbo Store</td>\n",
       "      <td>319</td>\n",
       "      <td>0.034283</td>\n",
       "    </tr>\n",
       "    <tr>\n",
       "      <th>15</th>\n",
       "      <td>Walmart</td>\n",
       "      <td>217</td>\n",
       "      <td>0.023321</td>\n",
       "    </tr>\n",
       "    <tr>\n",
       "      <th>1</th>\n",
       "      <td>Consignment</td>\n",
       "      <td>14</td>\n",
       "      <td>0.001505</td>\n",
       "    </tr>\n",
       "  </tbody>\n",
       "</table>\n",
       "</div>"
      ],
      "text/plain": [
       "            Client_Type  Frequency        Pct\n",
       "8            Individual     351908  37.819237\n",
       "9       NO IDENTIFICADO     281670  30.270822\n",
       "13      Small Franchise     158357  17.018485\n",
       "4   General Market/Mart      65516   7.040946\n",
       "2                Eatery      30277   3.253842\n",
       "14          Supermarket      15911   1.709941\n",
       "10           Oxxo Store       9276   0.996883\n",
       "6     Hospital/Pharmacy       5693   0.611822\n",
       "12               School       5562   0.597743\n",
       "11                 Post       2658   0.285653\n",
       "7                 Hotel       1104   0.118646\n",
       "3          Fresh Market       1060   0.113917\n",
       "5            Govt Store        958   0.102955\n",
       "0           Bimbo Store        319   0.034283\n",
       "15              Walmart        217   0.023321\n",
       "1           Consignment         14   0.001505"
      ]
     },
     "execution_count": 29,
     "metadata": {},
     "output_type": "execute_result"
    }
   ],
   "source": [
    "print '# Unique Client_Type: ' + str(len(clients['Client_Type'].unique()))\n",
    "common_client_types = pd.DataFrame({'Frequency': clients.groupby(['Client_Type'])['Client_Type'].count()}).reset_index()\n",
    "common_client_types['Pct'] = 100.0 * common_client_types['Frequency'] / common_client_types['Frequency'].sum()\n",
    "common_client_types = common_client_types.sort_values(by = 'Frequency', ascending = False)\n",
    "common_client_types"
   ]
  },
  {
   "cell_type": "markdown",
   "metadata": {},
   "source": [
    "## Merge Clients with Train"
   ]
  },
  {
   "cell_type": "markdown",
   "metadata": {},
   "source": [
    "Let's merge client data with train data..."
   ]
  },
  {
   "cell_type": "code",
   "execution_count": 30,
   "metadata": {
    "collapsed": false,
    "scrolled": true
   },
   "outputs": [
    {
     "name": "stdout",
     "output_type": "stream",
     "text": [
      "Shape Before Merge: (74180464, 9)\n",
      "Shape After Merge: (74180464, 11)\n"
     ]
    },
    {
     "data": {
      "text/html": [
       "<div>\n",
       "<table border=\"1\" class=\"dataframe\">\n",
       "  <thead>\n",
       "    <tr style=\"text-align: right;\">\n",
       "      <th></th>\n",
       "      <th>Producto_ID</th>\n",
       "      <th>Cliente_ID</th>\n",
       "      <th>Agencia_ID</th>\n",
       "      <th>Demanda_uni_equil</th>\n",
       "      <th>NombreProducto</th>\n",
       "      <th>short_product_name</th>\n",
       "      <th>pieces</th>\n",
       "      <th>weight</th>\n",
       "      <th>brand</th>\n",
       "      <th>NombreCliente</th>\n",
       "      <th>Client_Type</th>\n",
       "    </tr>\n",
       "  </thead>\n",
       "  <tbody>\n",
       "    <tr>\n",
       "      <th>0</th>\n",
       "      <td>1212</td>\n",
       "      <td>15766</td>\n",
       "      <td>1110</td>\n",
       "      <td>3</td>\n",
       "      <td>Roles Canela 2p 120g BIM 1212</td>\n",
       "      <td>rol canel</td>\n",
       "      <td>2.0</td>\n",
       "      <td>120.0</td>\n",
       "      <td>BIM</td>\n",
       "      <td>PUESTO DE PERIODICOS LAZARO</td>\n",
       "      <td>Post</td>\n",
       "    </tr>\n",
       "    <tr>\n",
       "      <th>1</th>\n",
       "      <td>1216</td>\n",
       "      <td>15766</td>\n",
       "      <td>1110</td>\n",
       "      <td>4</td>\n",
       "      <td>Roles Glass 2p 135g BIM 1216</td>\n",
       "      <td>rol glass</td>\n",
       "      <td>2.0</td>\n",
       "      <td>135.0</td>\n",
       "      <td>BIM</td>\n",
       "      <td>PUESTO DE PERIODICOS LAZARO</td>\n",
       "      <td>Post</td>\n",
       "    </tr>\n",
       "    <tr>\n",
       "      <th>2</th>\n",
       "      <td>1238</td>\n",
       "      <td>15766</td>\n",
       "      <td>1110</td>\n",
       "      <td>4</td>\n",
       "      <td>Panquecito Gota Choc 2p 140g BIM 1238</td>\n",
       "      <td>panquecit got choc</td>\n",
       "      <td>2.0</td>\n",
       "      <td>140.0</td>\n",
       "      <td>BIM</td>\n",
       "      <td>PUESTO DE PERIODICOS LAZARO</td>\n",
       "      <td>Post</td>\n",
       "    </tr>\n",
       "    <tr>\n",
       "      <th>3</th>\n",
       "      <td>1240</td>\n",
       "      <td>15766</td>\n",
       "      <td>1110</td>\n",
       "      <td>4</td>\n",
       "      <td>Mantecadas Vainilla 4p 125g BIM 1240</td>\n",
       "      <td>mantec vainill</td>\n",
       "      <td>4.0</td>\n",
       "      <td>125.0</td>\n",
       "      <td>BIM</td>\n",
       "      <td>PUESTO DE PERIODICOS LAZARO</td>\n",
       "      <td>Post</td>\n",
       "    </tr>\n",
       "    <tr>\n",
       "      <th>4</th>\n",
       "      <td>1242</td>\n",
       "      <td>15766</td>\n",
       "      <td>1110</td>\n",
       "      <td>3</td>\n",
       "      <td>Donitas Espolvoreadas 6p 105g BIM 1242</td>\n",
       "      <td>donit espolvor</td>\n",
       "      <td>6.0</td>\n",
       "      <td>105.0</td>\n",
       "      <td>BIM</td>\n",
       "      <td>PUESTO DE PERIODICOS LAZARO</td>\n",
       "      <td>Post</td>\n",
       "    </tr>\n",
       "  </tbody>\n",
       "</table>\n",
       "</div>"
      ],
      "text/plain": [
       "   Producto_ID  Cliente_ID  Agencia_ID  Demanda_uni_equil  \\\n",
       "0         1212       15766        1110                  3   \n",
       "1         1216       15766        1110                  4   \n",
       "2         1238       15766        1110                  4   \n",
       "3         1240       15766        1110                  4   \n",
       "4         1242       15766        1110                  3   \n",
       "\n",
       "                           NombreProducto  short_product_name  pieces  weight  \\\n",
       "0           Roles Canela 2p 120g BIM 1212           rol canel     2.0   120.0   \n",
       "1            Roles Glass 2p 135g BIM 1216           rol glass     2.0   135.0   \n",
       "2   Panquecito Gota Choc 2p 140g BIM 1238  panquecit got choc     2.0   140.0   \n",
       "3    Mantecadas Vainilla 4p 125g BIM 1240      mantec vainill     4.0   125.0   \n",
       "4  Donitas Espolvoreadas 6p 105g BIM 1242      donit espolvor     6.0   105.0   \n",
       "\n",
       "  brand                NombreCliente Client_Type  \n",
       "0   BIM  PUESTO DE PERIODICOS LAZARO        Post  \n",
       "1   BIM  PUESTO DE PERIODICOS LAZARO        Post  \n",
       "2   BIM  PUESTO DE PERIODICOS LAZARO        Post  \n",
       "3   BIM  PUESTO DE PERIODICOS LAZARO        Post  \n",
       "4   BIM  PUESTO DE PERIODICOS LAZARO        Post  "
      ]
     },
     "execution_count": 30,
     "metadata": {},
     "output_type": "execute_result"
    }
   ],
   "source": [
    "print 'Shape Before Merge: ' + str(train.shape)\n",
    "train = train.merge(clients, on = 'Cliente_ID', how = 'left')\n",
    "print 'Shape After Merge: ' + str(train.shape)\n",
    "train.head()"
   ]
  },
  {
   "cell_type": "markdown",
   "metadata": {},
   "source": [
    "## Exploratory Data Analysis and Visualization"
   ]
  },
  {
   "cell_type": "code",
   "execution_count": 31,
   "metadata": {
    "collapsed": false
   },
   "outputs": [
    {
     "data": {
      "text/html": [
       "<div>\n",
       "<table border=\"1\" class=\"dataframe\">\n",
       "  <thead>\n",
       "    <tr style=\"text-align: right;\">\n",
       "      <th></th>\n",
       "      <th>Client_Type</th>\n",
       "      <th>Adjusted Sales</th>\n",
       "      <th>Pct</th>\n",
       "    </tr>\n",
       "  </thead>\n",
       "  <tbody>\n",
       "    <tr>\n",
       "      <th>8</th>\n",
       "      <td>Individual</td>\n",
       "      <td>191529780</td>\n",
       "      <td>35.738401</td>\n",
       "    </tr>\n",
       "    <tr>\n",
       "      <th>13</th>\n",
       "      <td>Small Franchise</td>\n",
       "      <td>100650079</td>\n",
       "      <td>18.780750</td>\n",
       "    </tr>\n",
       "    <tr>\n",
       "      <th>9</th>\n",
       "      <td>NO IDENTIFICADO</td>\n",
       "      <td>82784610</td>\n",
       "      <td>15.447152</td>\n",
       "    </tr>\n",
       "    <tr>\n",
       "      <th>4</th>\n",
       "      <td>General Market/Mart</td>\n",
       "      <td>55937875</td>\n",
       "      <td>10.437699</td>\n",
       "    </tr>\n",
       "    <tr>\n",
       "      <th>10</th>\n",
       "      <td>Oxxo Store</td>\n",
       "      <td>26720081</td>\n",
       "      <td>4.985820</td>\n",
       "    </tr>\n",
       "    <tr>\n",
       "      <th>14</th>\n",
       "      <td>Supermarket</td>\n",
       "      <td>24389983</td>\n",
       "      <td>4.551036</td>\n",
       "    </tr>\n",
       "    <tr>\n",
       "      <th>1</th>\n",
       "      <td>Consignment</td>\n",
       "      <td>19691066</td>\n",
       "      <td>3.674244</td>\n",
       "    </tr>\n",
       "    <tr>\n",
       "      <th>2</th>\n",
       "      <td>Eatery</td>\n",
       "      <td>14818703</td>\n",
       "      <td>2.765088</td>\n",
       "    </tr>\n",
       "    <tr>\n",
       "      <th>15</th>\n",
       "      <td>Walmart</td>\n",
       "      <td>8483857</td>\n",
       "      <td>1.583041</td>\n",
       "    </tr>\n",
       "    <tr>\n",
       "      <th>6</th>\n",
       "      <td>Hospital/Pharmacy</td>\n",
       "      <td>4665340</td>\n",
       "      <td>0.870527</td>\n",
       "    </tr>\n",
       "    <tr>\n",
       "      <th>12</th>\n",
       "      <td>School</td>\n",
       "      <td>3172893</td>\n",
       "      <td>0.592044</td>\n",
       "    </tr>\n",
       "    <tr>\n",
       "      <th>11</th>\n",
       "      <td>Post</td>\n",
       "      <td>885621</td>\n",
       "      <td>0.165252</td>\n",
       "    </tr>\n",
       "    <tr>\n",
       "      <th>5</th>\n",
       "      <td>Govt Store</td>\n",
       "      <td>592964</td>\n",
       "      <td>0.110644</td>\n",
       "    </tr>\n",
       "    <tr>\n",
       "      <th>7</th>\n",
       "      <td>Hotel</td>\n",
       "      <td>584411</td>\n",
       "      <td>0.109048</td>\n",
       "    </tr>\n",
       "    <tr>\n",
       "      <th>3</th>\n",
       "      <td>Fresh Market</td>\n",
       "      <td>584001</td>\n",
       "      <td>0.108971</td>\n",
       "    </tr>\n",
       "    <tr>\n",
       "      <th>0</th>\n",
       "      <td>Bimbo Store</td>\n",
       "      <td>430246</td>\n",
       "      <td>0.080282</td>\n",
       "    </tr>\n",
       "  </tbody>\n",
       "</table>\n",
       "</div>"
      ],
      "text/plain": [
       "            Client_Type  Adjusted Sales        Pct\n",
       "8            Individual       191529780  35.738401\n",
       "13      Small Franchise       100650079  18.780750\n",
       "9       NO IDENTIFICADO        82784610  15.447152\n",
       "4   General Market/Mart        55937875  10.437699\n",
       "10           Oxxo Store        26720081   4.985820\n",
       "14          Supermarket        24389983   4.551036\n",
       "1           Consignment        19691066   3.674244\n",
       "2                Eatery        14818703   2.765088\n",
       "15              Walmart         8483857   1.583041\n",
       "6     Hospital/Pharmacy         4665340   0.870527\n",
       "12               School         3172893   0.592044\n",
       "11                 Post          885621   0.165252\n",
       "5            Govt Store          592964   0.110644\n",
       "7                 Hotel          584411   0.109048\n",
       "3          Fresh Market          584001   0.108971\n",
       "0           Bimbo Store          430246   0.080282"
      ]
     },
     "execution_count": 31,
     "metadata": {},
     "output_type": "execute_result"
    }
   ],
   "source": [
    "best_selling_types = pd.DataFrame({'Adjusted Sales': train.groupby(['Client_Type'])['Demanda_uni_equil'].sum()}).reset_index()\n",
    "best_selling_types['Pct'] = 100.0 * best_selling_types['Adjusted Sales'] / best_selling_types['Adjusted Sales'].sum()\n",
    "best_selling_types = best_selling_types.sort_values(by = 'Adjusted Sales', ascending = False)\n",
    "best_selling_types"
   ]
  },
  {
   "cell_type": "markdown",
   "metadata": {},
   "source": [
    "Let's visualize sales percentages by client type..."
   ]
  },
  {
   "cell_type": "code",
   "execution_count": 32,
   "metadata": {
    "collapsed": false
   },
   "outputs": [
    {
     "data": {
      "image/png": "[encoded data removed]",
      "text/plain": [
       "<matplotlib.figure.Figure at 0x140699b0>"
      ]
     },
     "metadata": {},
     "output_type": "display_data"
    }
   ],
   "source": [
    "n_groups = len(best_selling_types['Client_Type'])\n",
    "groups = best_selling_types['Client_Type']\n",
    "pcts = best_selling_types['Pct']\n",
    "fig, ax = plt.subplots()\n",
    "index = np.arange(n_groups)\n",
    "bar_width = 0.65\n",
    "opacity = 0.9\n",
    "\n",
    "rects1 = plt.bar(index, pcts, bar_width,\n",
    "                 alpha=opacity,\n",
    "                 color='b')\n",
    "\n",
    "plt.xlabel('Client Type')\n",
    "plt.ylabel('Percentage')\n",
    "plt.title('Percentage of Adjusted Sales by Client Type')\n",
    "plt.xticks(index + bar_width, groups, rotation = 'vertical')\n",
    "plt.show()"
   ]
  },
  {
   "cell_type": "markdown",
   "metadata": {},
   "source": [
    "Let's repeat this, but look at sales of top 2 products."
   ]
  },
  {
   "cell_type": "code",
   "execution_count": 33,
   "metadata": {
    "collapsed": false
   },
   "outputs": [
    {
     "data": {
      "text/html": [
       "<div>\n",
       "<table border=\"1\" class=\"dataframe\">\n",
       "  <thead>\n",
       "    <tr style=\"text-align: right;\">\n",
       "      <th></th>\n",
       "      <th>short_product_name</th>\n",
       "      <th>Adjusted_Sales</th>\n",
       "    </tr>\n",
       "  </thead>\n",
       "  <tbody>\n",
       "    <tr>\n",
       "      <th>367</th>\n",
       "      <td>nit</td>\n",
       "      <td>57606859</td>\n",
       "    </tr>\n",
       "    <tr>\n",
       "      <th>274</th>\n",
       "      <td>gansit</td>\n",
       "      <td>26133420</td>\n",
       "    </tr>\n",
       "  </tbody>\n",
       "</table>\n",
       "</div>"
      ],
      "text/plain": [
       "    short_product_name  Adjusted_Sales\n",
       "367                nit        57606859\n",
       "274             gansit        26133420"
      ]
     },
     "execution_count": 33,
     "metadata": {},
     "output_type": "execute_result"
    }
   ],
   "source": [
    "best_sellers.head(n=2)"
   ]
  },
  {
   "cell_type": "code",
   "execution_count": 34,
   "metadata": {
    "collapsed": false
   },
   "outputs": [
    {
     "data": {
      "text/html": [
       "<div>\n",
       "<table border=\"1\" class=\"dataframe\">\n",
       "  <thead>\n",
       "    <tr style=\"text-align: right;\">\n",
       "      <th></th>\n",
       "      <th>Client_Type</th>\n",
       "      <th>short_product_name</th>\n",
       "      <th>Adjusted Sales</th>\n",
       "    </tr>\n",
       "  </thead>\n",
       "  <tbody>\n",
       "    <tr>\n",
       "      <th>0</th>\n",
       "      <td>Bimbo Store</td>\n",
       "      <td>gansit</td>\n",
       "      <td>6070</td>\n",
       "    </tr>\n",
       "    <tr>\n",
       "      <th>1</th>\n",
       "      <td>Bimbo Store</td>\n",
       "      <td>nit</td>\n",
       "      <td>10801</td>\n",
       "    </tr>\n",
       "    <tr>\n",
       "      <th>2</th>\n",
       "      <td>Consignment</td>\n",
       "      <td>gansit</td>\n",
       "      <td>1565</td>\n",
       "    </tr>\n",
       "    <tr>\n",
       "      <th>3</th>\n",
       "      <td>Consignment</td>\n",
       "      <td>nit</td>\n",
       "      <td>3613</td>\n",
       "    </tr>\n",
       "    <tr>\n",
       "      <th>4</th>\n",
       "      <td>Eatery</td>\n",
       "      <td>gansit</td>\n",
       "      <td>642463</td>\n",
       "    </tr>\n",
       "    <tr>\n",
       "      <th>5</th>\n",
       "      <td>Eatery</td>\n",
       "      <td>nit</td>\n",
       "      <td>1282035</td>\n",
       "    </tr>\n",
       "    <tr>\n",
       "      <th>6</th>\n",
       "      <td>Fresh Market</td>\n",
       "      <td>gansit</td>\n",
       "      <td>28500</td>\n",
       "    </tr>\n",
       "    <tr>\n",
       "      <th>7</th>\n",
       "      <td>Fresh Market</td>\n",
       "      <td>nit</td>\n",
       "      <td>75330</td>\n",
       "    </tr>\n",
       "    <tr>\n",
       "      <th>8</th>\n",
       "      <td>General Market/Mart</td>\n",
       "      <td>gansit</td>\n",
       "      <td>2294139</td>\n",
       "    </tr>\n",
       "    <tr>\n",
       "      <th>9</th>\n",
       "      <td>General Market/Mart</td>\n",
       "      <td>nit</td>\n",
       "      <td>4500594</td>\n",
       "    </tr>\n",
       "    <tr>\n",
       "      <th>10</th>\n",
       "      <td>Govt Store</td>\n",
       "      <td>gansit</td>\n",
       "      <td>25978</td>\n",
       "    </tr>\n",
       "    <tr>\n",
       "      <th>11</th>\n",
       "      <td>Govt Store</td>\n",
       "      <td>nit</td>\n",
       "      <td>81246</td>\n",
       "    </tr>\n",
       "    <tr>\n",
       "      <th>12</th>\n",
       "      <td>Hospital/Pharmacy</td>\n",
       "      <td>gansit</td>\n",
       "      <td>372292</td>\n",
       "    </tr>\n",
       "    <tr>\n",
       "      <th>13</th>\n",
       "      <td>Hospital/Pharmacy</td>\n",
       "      <td>nit</td>\n",
       "      <td>313684</td>\n",
       "    </tr>\n",
       "    <tr>\n",
       "      <th>14</th>\n",
       "      <td>Hotel</td>\n",
       "      <td>gansit</td>\n",
       "      <td>4412</td>\n",
       "    </tr>\n",
       "    <tr>\n",
       "      <th>15</th>\n",
       "      <td>Hotel</td>\n",
       "      <td>nit</td>\n",
       "      <td>5918</td>\n",
       "    </tr>\n",
       "    <tr>\n",
       "      <th>16</th>\n",
       "      <td>Individual</td>\n",
       "      <td>gansit</td>\n",
       "      <td>9606403</td>\n",
       "    </tr>\n",
       "    <tr>\n",
       "      <th>17</th>\n",
       "      <td>Individual</td>\n",
       "      <td>nit</td>\n",
       "      <td>25722639</td>\n",
       "    </tr>\n",
       "    <tr>\n",
       "      <th>18</th>\n",
       "      <td>NO IDENTIFICADO</td>\n",
       "      <td>gansit</td>\n",
       "      <td>4438330</td>\n",
       "    </tr>\n",
       "    <tr>\n",
       "      <th>19</th>\n",
       "      <td>NO IDENTIFICADO</td>\n",
       "      <td>nit</td>\n",
       "      <td>10347672</td>\n",
       "    </tr>\n",
       "    <tr>\n",
       "      <th>20</th>\n",
       "      <td>Oxxo Store</td>\n",
       "      <td>gansit</td>\n",
       "      <td>2277847</td>\n",
       "    </tr>\n",
       "    <tr>\n",
       "      <th>21</th>\n",
       "      <td>Oxxo Store</td>\n",
       "      <td>nit</td>\n",
       "      <td>1723937</td>\n",
       "    </tr>\n",
       "    <tr>\n",
       "      <th>22</th>\n",
       "      <td>Post</td>\n",
       "      <td>gansit</td>\n",
       "      <td>51134</td>\n",
       "    </tr>\n",
       "    <tr>\n",
       "      <th>23</th>\n",
       "      <td>Post</td>\n",
       "      <td>nit</td>\n",
       "      <td>57560</td>\n",
       "    </tr>\n",
       "    <tr>\n",
       "      <th>24</th>\n",
       "      <td>School</td>\n",
       "      <td>gansit</td>\n",
       "      <td>135820</td>\n",
       "    </tr>\n",
       "    <tr>\n",
       "      <th>25</th>\n",
       "      <td>School</td>\n",
       "      <td>nit</td>\n",
       "      <td>290322</td>\n",
       "    </tr>\n",
       "    <tr>\n",
       "      <th>26</th>\n",
       "      <td>Small Franchise</td>\n",
       "      <td>gansit</td>\n",
       "      <td>5029020</td>\n",
       "    </tr>\n",
       "    <tr>\n",
       "      <th>27</th>\n",
       "      <td>Small Franchise</td>\n",
       "      <td>nit</td>\n",
       "      <td>11235122</td>\n",
       "    </tr>\n",
       "    <tr>\n",
       "      <th>28</th>\n",
       "      <td>Supermarket</td>\n",
       "      <td>gansit</td>\n",
       "      <td>1056577</td>\n",
       "    </tr>\n",
       "    <tr>\n",
       "      <th>29</th>\n",
       "      <td>Supermarket</td>\n",
       "      <td>nit</td>\n",
       "      <td>1861500</td>\n",
       "    </tr>\n",
       "    <tr>\n",
       "      <th>30</th>\n",
       "      <td>Walmart</td>\n",
       "      <td>gansit</td>\n",
       "      <td>162870</td>\n",
       "    </tr>\n",
       "    <tr>\n",
       "      <th>31</th>\n",
       "      <td>Walmart</td>\n",
       "      <td>nit</td>\n",
       "      <td>94886</td>\n",
       "    </tr>\n",
       "  </tbody>\n",
       "</table>\n",
       "</div>"
      ],
      "text/plain": [
       "            Client_Type short_product_name  Adjusted Sales\n",
       "0           Bimbo Store             gansit            6070\n",
       "1           Bimbo Store                nit           10801\n",
       "2           Consignment             gansit            1565\n",
       "3           Consignment                nit            3613\n",
       "4                Eatery             gansit          642463\n",
       "5                Eatery                nit         1282035\n",
       "6          Fresh Market             gansit           28500\n",
       "7          Fresh Market                nit           75330\n",
       "8   General Market/Mart             gansit         2294139\n",
       "9   General Market/Mart                nit         4500594\n",
       "10           Govt Store             gansit           25978\n",
       "11           Govt Store                nit           81246\n",
       "12    Hospital/Pharmacy             gansit          372292\n",
       "13    Hospital/Pharmacy                nit          313684\n",
       "14                Hotel             gansit            4412\n",
       "15                Hotel                nit            5918\n",
       "16           Individual             gansit         9606403\n",
       "17           Individual                nit        25722639\n",
       "18      NO IDENTIFICADO             gansit         4438330\n",
       "19      NO IDENTIFICADO                nit        10347672\n",
       "20           Oxxo Store             gansit         2277847\n",
       "21           Oxxo Store                nit         1723937\n",
       "22                 Post             gansit           51134\n",
       "23                 Post                nit           57560\n",
       "24               School             gansit          135820\n",
       "25               School                nit          290322\n",
       "26      Small Franchise             gansit         5029020\n",
       "27      Small Franchise                nit        11235122\n",
       "28          Supermarket             gansit         1056577\n",
       "29          Supermarket                nit         1861500\n",
       "30              Walmart             gansit          162870\n",
       "31              Walmart                nit           94886"
      ]
     },
     "execution_count": 34,
     "metadata": {},
     "output_type": "execute_result"
    }
   ],
   "source": [
    "products = best_sellers['short_product_name'][0:2]\n",
    "best_selling_products = pd.DataFrame({'Adjusted Sales': train.ix[train['short_product_name'].isin(products)].groupby(\n",
    "            ['Client_Type', 'short_product_name'])['Demanda_uni_equil'].sum()}).reset_index()\n",
    "best_selling_products"
   ]
  },
  {
   "cell_type": "code",
   "execution_count": 35,
   "metadata": {
    "collapsed": false
   },
   "outputs": [
    {
     "data": {
      "text/html": [
       "<div>\n",
       "<table border=\"1\" class=\"dataframe\">\n",
       "  <thead>\n",
       "    <tr style=\"text-align: right;\">\n",
       "      <th></th>\n",
       "      <th>Client_Type</th>\n",
       "      <th>short_product_name</th>\n",
       "      <th>Adjusted Sales</th>\n",
       "      <th>Pct</th>\n",
       "    </tr>\n",
       "  </thead>\n",
       "  <tbody>\n",
       "    <tr>\n",
       "      <th>0</th>\n",
       "      <td>Bimbo Store</td>\n",
       "      <td>gansit</td>\n",
       "      <td>6070</td>\n",
       "      <td>0.023227</td>\n",
       "    </tr>\n",
       "    <tr>\n",
       "      <th>1</th>\n",
       "      <td>Bimbo Store</td>\n",
       "      <td>nit</td>\n",
       "      <td>10801</td>\n",
       "      <td>0.018750</td>\n",
       "    </tr>\n",
       "    <tr>\n",
       "      <th>2</th>\n",
       "      <td>Consignment</td>\n",
       "      <td>gansit</td>\n",
       "      <td>1565</td>\n",
       "      <td>0.005989</td>\n",
       "    </tr>\n",
       "    <tr>\n",
       "      <th>3</th>\n",
       "      <td>Consignment</td>\n",
       "      <td>nit</td>\n",
       "      <td>3613</td>\n",
       "      <td>0.006272</td>\n",
       "    </tr>\n",
       "    <tr>\n",
       "      <th>4</th>\n",
       "      <td>Eatery</td>\n",
       "      <td>gansit</td>\n",
       "      <td>642463</td>\n",
       "      <td>2.458396</td>\n",
       "    </tr>\n",
       "    <tr>\n",
       "      <th>5</th>\n",
       "      <td>Eatery</td>\n",
       "      <td>nit</td>\n",
       "      <td>1282035</td>\n",
       "      <td>2.225490</td>\n",
       "    </tr>\n",
       "    <tr>\n",
       "      <th>6</th>\n",
       "      <td>Fresh Market</td>\n",
       "      <td>gansit</td>\n",
       "      <td>28500</td>\n",
       "      <td>0.109056</td>\n",
       "    </tr>\n",
       "    <tr>\n",
       "      <th>7</th>\n",
       "      <td>Fresh Market</td>\n",
       "      <td>nit</td>\n",
       "      <td>75330</td>\n",
       "      <td>0.130766</td>\n",
       "    </tr>\n",
       "    <tr>\n",
       "      <th>8</th>\n",
       "      <td>General Market/Mart</td>\n",
       "      <td>gansit</td>\n",
       "      <td>2294139</td>\n",
       "      <td>8.778564</td>\n",
       "    </tr>\n",
       "    <tr>\n",
       "      <th>9</th>\n",
       "      <td>General Market/Mart</td>\n",
       "      <td>nit</td>\n",
       "      <td>4500594</td>\n",
       "      <td>7.812601</td>\n",
       "    </tr>\n",
       "    <tr>\n",
       "      <th>10</th>\n",
       "      <td>Govt Store</td>\n",
       "      <td>gansit</td>\n",
       "      <td>25978</td>\n",
       "      <td>0.099405</td>\n",
       "    </tr>\n",
       "    <tr>\n",
       "      <th>11</th>\n",
       "      <td>Govt Store</td>\n",
       "      <td>nit</td>\n",
       "      <td>81246</td>\n",
       "      <td>0.141035</td>\n",
       "    </tr>\n",
       "    <tr>\n",
       "      <th>12</th>\n",
       "      <td>Hospital/Pharmacy</td>\n",
       "      <td>gansit</td>\n",
       "      <td>372292</td>\n",
       "      <td>1.424582</td>\n",
       "    </tr>\n",
       "    <tr>\n",
       "      <th>13</th>\n",
       "      <td>Hospital/Pharmacy</td>\n",
       "      <td>nit</td>\n",
       "      <td>313684</td>\n",
       "      <td>0.544525</td>\n",
       "    </tr>\n",
       "    <tr>\n",
       "      <th>14</th>\n",
       "      <td>Hotel</td>\n",
       "      <td>gansit</td>\n",
       "      <td>4412</td>\n",
       "      <td>0.016883</td>\n",
       "    </tr>\n",
       "    <tr>\n",
       "      <th>15</th>\n",
       "      <td>Hotel</td>\n",
       "      <td>nit</td>\n",
       "      <td>5918</td>\n",
       "      <td>0.010273</td>\n",
       "    </tr>\n",
       "    <tr>\n",
       "      <th>16</th>\n",
       "      <td>Individual</td>\n",
       "      <td>gansit</td>\n",
       "      <td>9606403</td>\n",
       "      <td>36.759073</td>\n",
       "    </tr>\n",
       "    <tr>\n",
       "      <th>17</th>\n",
       "      <td>Individual</td>\n",
       "      <td>nit</td>\n",
       "      <td>25722639</td>\n",
       "      <td>44.652042</td>\n",
       "    </tr>\n",
       "    <tr>\n",
       "      <th>18</th>\n",
       "      <td>NO IDENTIFICADO</td>\n",
       "      <td>gansit</td>\n",
       "      <td>4438330</td>\n",
       "      <td>16.983349</td>\n",
       "    </tr>\n",
       "    <tr>\n",
       "      <th>19</th>\n",
       "      <td>NO IDENTIFICADO</td>\n",
       "      <td>nit</td>\n",
       "      <td>10347672</td>\n",
       "      <td>17.962569</td>\n",
       "    </tr>\n",
       "    <tr>\n",
       "      <th>20</th>\n",
       "      <td>Oxxo Store</td>\n",
       "      <td>gansit</td>\n",
       "      <td>2277847</td>\n",
       "      <td>8.716222</td>\n",
       "    </tr>\n",
       "    <tr>\n",
       "      <th>21</th>\n",
       "      <td>Oxxo Store</td>\n",
       "      <td>nit</td>\n",
       "      <td>1723937</td>\n",
       "      <td>2.992590</td>\n",
       "    </tr>\n",
       "    <tr>\n",
       "      <th>22</th>\n",
       "      <td>Post</td>\n",
       "      <td>gansit</td>\n",
       "      <td>51134</td>\n",
       "      <td>0.195665</td>\n",
       "    </tr>\n",
       "    <tr>\n",
       "      <th>23</th>\n",
       "      <td>Post</td>\n",
       "      <td>nit</td>\n",
       "      <td>57560</td>\n",
       "      <td>0.099919</td>\n",
       "    </tr>\n",
       "    <tr>\n",
       "      <th>24</th>\n",
       "      <td>School</td>\n",
       "      <td>gansit</td>\n",
       "      <td>135820</td>\n",
       "      <td>0.519718</td>\n",
       "    </tr>\n",
       "    <tr>\n",
       "      <th>25</th>\n",
       "      <td>School</td>\n",
       "      <td>nit</td>\n",
       "      <td>290322</td>\n",
       "      <td>0.503971</td>\n",
       "    </tr>\n",
       "    <tr>\n",
       "      <th>26</th>\n",
       "      <td>Small Franchise</td>\n",
       "      <td>gansit</td>\n",
       "      <td>5029020</td>\n",
       "      <td>19.243635</td>\n",
       "    </tr>\n",
       "    <tr>\n",
       "      <th>27</th>\n",
       "      <td>Small Franchise</td>\n",
       "      <td>nit</td>\n",
       "      <td>11235122</td>\n",
       "      <td>19.503098</td>\n",
       "    </tr>\n",
       "    <tr>\n",
       "      <th>28</th>\n",
       "      <td>Supermarket</td>\n",
       "      <td>gansit</td>\n",
       "      <td>1056577</td>\n",
       "      <td>4.043011</td>\n",
       "    </tr>\n",
       "    <tr>\n",
       "      <th>29</th>\n",
       "      <td>Supermarket</td>\n",
       "      <td>nit</td>\n",
       "      <td>1861500</td>\n",
       "      <td>3.231386</td>\n",
       "    </tr>\n",
       "    <tr>\n",
       "      <th>30</th>\n",
       "      <td>Walmart</td>\n",
       "      <td>gansit</td>\n",
       "      <td>162870</td>\n",
       "      <td>0.623225</td>\n",
       "    </tr>\n",
       "    <tr>\n",
       "      <th>31</th>\n",
       "      <td>Walmart</td>\n",
       "      <td>nit</td>\n",
       "      <td>94886</td>\n",
       "      <td>0.164713</td>\n",
       "    </tr>\n",
       "  </tbody>\n",
       "</table>\n",
       "</div>"
      ],
      "text/plain": [
       "            Client_Type short_product_name  Adjusted Sales        Pct\n",
       "0           Bimbo Store             gansit            6070   0.023227\n",
       "1           Bimbo Store                nit           10801   0.018750\n",
       "2           Consignment             gansit            1565   0.005989\n",
       "3           Consignment                nit            3613   0.006272\n",
       "4                Eatery             gansit          642463   2.458396\n",
       "5                Eatery                nit         1282035   2.225490\n",
       "6          Fresh Market             gansit           28500   0.109056\n",
       "7          Fresh Market                nit           75330   0.130766\n",
       "8   General Market/Mart             gansit         2294139   8.778564\n",
       "9   General Market/Mart                nit         4500594   7.812601\n",
       "10           Govt Store             gansit           25978   0.099405\n",
       "11           Govt Store                nit           81246   0.141035\n",
       "12    Hospital/Pharmacy             gansit          372292   1.424582\n",
       "13    Hospital/Pharmacy                nit          313684   0.544525\n",
       "14                Hotel             gansit            4412   0.016883\n",
       "15                Hotel                nit            5918   0.010273\n",
       "16           Individual             gansit         9606403  36.759073\n",
       "17           Individual                nit        25722639  44.652042\n",
       "18      NO IDENTIFICADO             gansit         4438330  16.983349\n",
       "19      NO IDENTIFICADO                nit        10347672  17.962569\n",
       "20           Oxxo Store             gansit         2277847   8.716222\n",
       "21           Oxxo Store                nit         1723937   2.992590\n",
       "22                 Post             gansit           51134   0.195665\n",
       "23                 Post                nit           57560   0.099919\n",
       "24               School             gansit          135820   0.519718\n",
       "25               School                nit          290322   0.503971\n",
       "26      Small Franchise             gansit         5029020  19.243635\n",
       "27      Small Franchise                nit        11235122  19.503098\n",
       "28          Supermarket             gansit         1056577   4.043011\n",
       "29          Supermarket                nit         1861500   3.231386\n",
       "30              Walmart             gansit          162870   0.623225\n",
       "31              Walmart                nit           94886   0.164713"
      ]
     },
     "execution_count": 35,
     "metadata": {},
     "output_type": "execute_result"
    }
   ],
   "source": [
    "best_selling_products['Pct'] = 100.0 * best_selling_products['Adjusted Sales']\n",
    "unique_products = list(best_selling_products['short_product_name'].unique())\n",
    "for product in unique_products: \n",
    "    product_sum = best_sellers.ix[best_sellers['short_product_name'] == product, 'Adjusted_Sales'].sum()\n",
    "    best_selling_products.ix[best_selling_products['short_product_name'] == product, 'Pct'] /= 1.0 * product_sum\n",
    "best_selling_products"
   ]
  },
  {
   "cell_type": "code",
   "execution_count": 36,
   "metadata": {
    "collapsed": false
   },
   "outputs": [
    {
     "data": {
      "image/png": "[encoded data removed]",
      "text/plain": [
       "<matplotlib.figure.Figure at 0x3b5176a0>"
      ]
     },
     "metadata": {},
     "output_type": "display_data"
    }
   ],
   "source": [
    "n_groups = len(best_selling_types['Client_Type'])\n",
    "groups = best_selling_types['Client_Type']\n",
    "\n",
    "pcts = best_selling_products.ix[best_selling_products['short_product_name'] == 'nit', 'Pct'].sort_values(ascending = False)\n",
    "pcts2 = best_selling_products.ix[best_selling_products['short_product_name'] == 'gansit', 'Pct'].sort_values(ascending = False)\n",
    "pcts3 = best_selling_products.ix[best_selling_products['short_product_name'] == 'reban', 'Pct'].sort_values(ascending = False)\n",
    "\n",
    "fig, ax = plt.subplots()\n",
    "\n",
    "index = np.arange(n_groups)\n",
    "bar_width = 0.35\n",
    "\n",
    "opacity = 0.9\n",
    "\n",
    "rects1 = plt.bar(index, pcts, bar_width,\n",
    "                 alpha=opacity,\n",
    "                 color='b',\n",
    "                 label='nit')\n",
    "\n",
    "rects2 = plt.bar(index + bar_width, pcts2, bar_width,\n",
    "                 alpha=opacity,\n",
    "                 color='g',\n",
    "                 label='gansit')\n",
    "\n",
    "plt.xlabel('Client Type')\n",
    "plt.ylabel('Percentage')\n",
    "plt.title('Percentage of Adjusted Sales by Client Type')\n",
    "plt.xticks(index + bar_width, groups, rotation = 'vertical')\n",
    "plt.legend()\n",
    "\n",
    "#plt.tight_layout()\n",
    "plt.show()"
   ]
  },
  {
   "cell_type": "markdown",
   "metadata": {},
   "source": [
    "We can clearly see that a much higher percentage of the product 'nit' is sold in Individual stores than 'gansit' which is sold much more frequently in Oxxo Stores, Supermarkts, and Eateries."
   ]
  }
 ],
 "metadata": {
  "kernelspec": {
   "display_name": "Python 2",
   "language": "python",
   "name": "python2"
  },
  "language_info": {
   "codemirror_mode": {
    "name": "ipython",
    "version": 2
   },
   "file_extension": ".py",
   "mimetype": "text/x-python",
   "name": "python",
   "nbconvert_exporter": "python",
   "pygments_lexer": "ipython2",
   "version": "2.7.11"
  }
 },
 "nbformat": 4,
 "nbformat_minor": 0
}
