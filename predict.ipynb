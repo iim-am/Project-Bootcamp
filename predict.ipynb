{
 "cells": [
  {
   "cell_type": "markdown",
   "metadata": {},
   "source": [
    "# Build Model and Generate Predictions"
   ]
  },
  {
   "cell_type": "markdown",
   "metadata": {},
   "source": [
    "### Load Necessary Packages"
   ]
  },
  {
   "cell_type": "code",
   "execution_count": 1,
   "metadata": {
    "collapsed": true
   },
   "outputs": [],
   "source": [
    "import os\n",
    "import time\n",
    "import random\n",
    "\n",
    "import numpy as np\n",
    "import pandas as pd\n",
    "import xgboost as xgb\n",
    "\n",
    "import matplotlib.pyplot as plt\n",
    "%matplotlib inline\n",
    "import re\n",
    "import gc"
   ]
  },
  {
   "cell_type": "markdown",
   "metadata": {},
   "source": [
    "### Create function for checking memory usage of dataframes"
   ]
  },
  {
   "cell_type": "code",
   "execution_count": 2,
   "metadata": {
    "collapsed": true
   },
   "outputs": [],
   "source": [
    "def check_memory_usage(data):\n",
    "    \"\"\" Takes DataFrame as input and returns memory usage statistics. \n",
    "    \"\"\"\n",
    "    print ''\n",
    "    print 'Checking memory usage statistics... '\n",
    "    print(data.info(memory_usage=True))    "
   ]
  },
  {
   "cell_type": "markdown",
   "metadata": {},
   "source": [
    "###  Create custom evaluation metric, Root Mean Log Squared Error (RMSLE)"
   ]
  },
  {
   "cell_type": "code",
   "execution_count": 3,
   "metadata": {
    "collapsed": true
   },
   "outputs": [],
   "source": [
    "def RMSLE(actuals, predictions):\n",
    "    \"\"\" Takes true values and predictions. Returns their Root Mean Squared Logarithmic Error.\n",
    "    \"\"\"\n",
    "    result = 0.0\n",
    "    actuals = np.asarray(actuals) * 1.0\n",
    "    predictions = np.asarray(predictions)\n",
    "    if(len(actuals) == len(predictions)):\n",
    "        result = np.sqrt(sum(((np.log(predictions + 1.0) - np.log(actuals + 1.0)) ** 2) / len(actuals)))\n",
    "        return result\n",
    "    else: \n",
    "        return \"Error!\""
   ]
  },
  {
   "cell_type": "markdown",
   "metadata": {},
   "source": [
    "### Set seed for reproducibility purposes"
   ]
  },
  {
   "cell_type": "code",
   "execution_count": 4,
   "metadata": {
    "collapsed": true
   },
   "outputs": [],
   "source": [
    "random.seed(0)"
   ]
  },
  {
   "cell_type": "markdown",
   "metadata": {},
   "source": [
    "### Load the data"
   ]
  },
  {
   "cell_type": "code",
   "execution_count": 5,
   "metadata": {
    "collapsed": true
   },
   "outputs": [],
   "source": [
    "def load_data(): \n",
    "    \"\"\" Loads and returns train and test data. \n",
    "    \"\"\"\n",
    "    # Set work directory\n",
    "    os.chdir('D:/OneDrive/Documents/Kaggle/Grupo Bimbo Inventory Demand/data') \n",
    "    \n",
    "    # Load data efficiently by setting numpy data types for variables\n",
    "    train_types = {\n",
    "         'Semana': np.uint8, 'Agencia_ID': np.uint16\n",
    "         , 'Canal_ID': np.uint8\n",
    "         , 'Ruta_SAK': np.uint16, 'Cliente_ID': np.uint32, 'Producto_ID': np.uint16\n",
    "         , 'Client_Type': np.uint32\n",
    "         , 'short_product_name': np.uint32, 'weight': np.float32, 'pieces': np.float32, 'weight_per_piece': np.float32 \n",
    "         , 'Demanda_uni_equil': np.float16\n",
    "         , 'Demanda_uni_equil_tminus2': np.float16, 'Demanda_uni_equil_tminus3': np.float16\n",
    "         , 'Demanda_uni_equil_tminus4': np.float16, 'Demanda_uni_equil_tminus5': np.float16  \n",
    "         , 'Agencia_ID_count': np.float32, 'Canal_ID_count': np.float32, 'Ruta_SAK_count': np.float32\n",
    "         , 'Cliente_ID_count': np.float32, 'Producto_ID_count': np.float32, 'Client_Type_count': np.float32\n",
    "         }  \n",
    "         \n",
    "    test_types = {\n",
    "         'Semana': np.uint8, 'Agencia_ID': np.uint16\n",
    "         , 'Canal_ID': np.uint8\n",
    "         , 'Ruta_SAK': np.uint16, 'Cliente_ID': np.uint32, 'Producto_ID': np.uint16\n",
    "         , 'Client_Type': np.uint32\n",
    "         , 'short_product_name': np.uint32, 'weight': np.float32, 'pieces': np.float32, 'weight_per_piece': np.float32 \n",
    "         , 'Demanda_uni_equil_tminus2': np.float16, 'Demanda_uni_equil_tminus3': np.float16\n",
    "         , 'Demanda_uni_equil_tminus4': np.float16, 'Demanda_uni_equil_tminus5': np.float16          \n",
    "         , 'Agencia_ID_count': np.float32, 'Canal_ID_count': np.float32, 'Ruta_SAK_count': np.float32\n",
    "         , 'Cliente_ID_count': np.float32, 'Producto_ID_count': np.float32, 'Client_Type_count': np.float32\n",
    "         }  \n",
    "    \n",
    "    train = pd.read_csv(\"train_modified.csv\", sep = \",\", usecols = train_types.keys(), dtype = train_types) \n",
    "    test = pd.read_csv(\"test_modified.csv\", sep = \",\", usecols = test_types.keys(), dtype = test_types) \n",
    "\n",
    "    return train, test   "
   ]
  },
  {
   "cell_type": "code",
   "execution_count": 6,
   "metadata": {
    "collapsed": false
   },
   "outputs": [
    {
     "name": "stdout",
     "output_type": "stream",
     "text": [
      "1. Loading data...\n",
      "Complete!\n",
      "\n",
      "\n",
      "Checking memory usage statistics... \n",
      "<class 'pandas.core.frame.DataFrame'>\n",
      "RangeIndex: 41390267 entries, 0 to 41390266\n",
      "Data columns (total 22 columns):\n",
      "Semana                       uint8\n",
      "Agencia_ID                   uint16\n",
      "Canal_ID                     uint8\n",
      "Ruta_SAK                     uint16\n",
      "Cliente_ID                   uint32\n",
      "Producto_ID                  uint16\n",
      "Client_Type                  uint32\n",
      "short_product_name           uint32\n",
      "weight                       float32\n",
      "pieces                       float32\n",
      "weight_per_piece             float32\n",
      "Demanda_uni_equil            float16\n",
      "Demanda_uni_equil_tminus2    float16\n",
      "Demanda_uni_equil_tminus3    float16\n",
      "Demanda_uni_equil_tminus4    float16\n",
      "Demanda_uni_equil_tminus5    float16\n",
      "Agencia_ID_count             float32\n",
      "Canal_ID_count               float32\n",
      "Ruta_SAK_count               float32\n",
      "Cliente_ID_count             float32\n",
      "Producto_ID_count            float32\n",
      "Client_Type_count            float32\n",
      "dtypes: float16(5), float32(9), uint16(3), uint32(3), uint8(2)\n",
      "memory usage: 2.5 GB\n",
      "None\n"
     ]
    }
   ],
   "source": [
    "print \"1. Loading data...\"\n",
    "train, test = load_data() \n",
    "print \"Complete!\"\n",
    "print ''\n",
    "check_memory_usage(train)"
   ]
  },
  {
   "cell_type": "markdown",
   "metadata": {},
   "source": [
    "### Prepare data for model fitting"
   ]
  },
  {
   "cell_type": "code",
   "execution_count": 7,
   "metadata": {
    "collapsed": true
   },
   "outputs": [],
   "source": [
    "def prepare_data(train, test, cv_index):\n",
    "    \"\"\" Divide train data into training data for model and a hold-out validation set\n",
    "        based on Semana value (can take 6, 7, 8, 9 as values). \n",
    "        \n",
    "        Splits outcome variable from data for model.\n",
    "        \n",
    "        Converts and returns dataframes as numpy matrices.\n",
    "    \"\"\"\n",
    "    # Reset data indices\n",
    "    train = train.reset_index(drop=True)\n",
    "    test = test.reset_index(drop=True)       \n",
    "      \n",
    "    # Get CV indices from train (Semana == cv_index)\n",
    "    cv_indices = train[train['Semana'] == cv_index].index\n",
    "    train_indices = train[train['Semana'] != cv_index].index\n",
    "    \n",
    "    # Data for model building\n",
    "    column_names = list(train.drop(['Demanda_uni_equil'], axis = 1).columns)\n",
    "    y_train = train.ix[train_indices, 'Demanda_uni_equil'].values\n",
    "    X_train = train.ix[train_indices, :].drop(['Demanda_uni_equil'], axis = 1).values\n",
    "    y_validation = train.ix[cv_indices, 'Demanda_uni_equil'].values\n",
    "    X_validation = train.ix[cv_indices, :].drop(['Demanda_uni_equil'], axis = 1).values\n",
    "    \n",
    "    # Return data\n",
    "    return y_train, X_train, y_validation, X_validation, column_names"
   ]
  },
  {
   "cell_type": "code",
   "execution_count": 8,
   "metadata": {
    "collapsed": false
   },
   "outputs": [
    {
     "name": "stdout",
     "output_type": "stream",
     "text": [
      "2. Preparing data for model building...\n",
      "Complete!\n"
     ]
    }
   ],
   "source": [
    "print \"2. Preparing data for model building...\"\n",
    "cv_index = 9\n",
    "y_train, X_train, y_validation, X_validation, column_names = prepare_data(train, test, cv_index)\n",
    "\n",
    "# Remove original train data sets from memory\n",
    "del train\n",
    "gc.collect()\n",
    "\n",
    "print \"Complete!\""
   ]
  },
  {
   "cell_type": "markdown",
   "metadata": {},
   "source": [
    "### Define XGBOOST model and parameters"
   ]
  },
  {
   "cell_type": "code",
   "execution_count": 9,
   "metadata": {
    "collapsed": false
   },
   "outputs": [
    {
     "name": "stdout",
     "output_type": "stream",
     "text": [
      "3. Create model and define parameters...\n"
     ]
    },
    {
     "data": {
      "text/plain": [
       "XGBRegressor(base_score=0.5, colsample_bylevel=1, colsample_bytree=1, gamma=0,\n",
       "       learning_rate=0.25, max_delta_step=0, max_depth=12,\n",
       "       min_child_weight=1, missing=None, n_estimators=100, nthread=-1,\n",
       "       objective='reg:linear', reg_alpha=0, reg_lambda=1,\n",
       "       scale_pos_weight=1, seed=0, silent=True, subsample=1)"
      ]
     },
     "execution_count": 9,
     "metadata": {},
     "output_type": "execute_result"
    }
   ],
   "source": [
    "print \"3. Create model and define parameters...\" \n",
    "xgb_params = {\n",
    "             'objective': 'reg:linear'\n",
    "             , 'n_estimators': 100 \n",
    "             , 'learning_rate': 0.25 \n",
    "             , 'max_depth': 12 \n",
    "             , 'seed': 0\n",
    "             }\n",
    "model_xgb = xgb.XGBRegressor()                \n",
    "model_xgb.set_params(**xgb_params)   "
   ]
  },
  {
   "cell_type": "markdown",
   "metadata": {},
   "source": [
    "### Create function to plot XGBOOST learning curves during fitting process"
   ]
  },
  {
   "cell_type": "code",
   "execution_count": 10,
   "metadata": {
    "collapsed": true
   },
   "outputs": [],
   "source": [
    "def plot_learning_curves(model_xgb):\n",
    "    \"\"\" Takes XGBOOST model fit on data. \n",
    "        Plots train and validation RMSE for each iteration of model.\n",
    "    \"\"\"\n",
    "    # Retrieve model performance metrics\n",
    "    results = model_xgb.evals_result()\n",
    "    epochs = len(results['validation_0']['rmse'])\n",
    "    x_axis = range(0, epochs)\n",
    "\n",
    "    # Plot RMSE\n",
    "    fig, ax = plt.subplots()\n",
    "    ax.plot(x_axis, results['validation_0']['rmse'], label='Train')\n",
    "    ax.plot(x_axis, results['validation_1']['rmse'], label='Test')\n",
    "    ax.legend()\n",
    "    plt.ylabel('RMSE')\n",
    "    plt.title('XGBoost RMSE Performance')\n",
    "    plt.show()"
   ]
  },
  {
   "cell_type": "markdown",
   "metadata": {},
   "source": [
    "### Create function to display XGBOOST feature importance scores"
   ]
  },
  {
   "cell_type": "code",
   "execution_count": 11,
   "metadata": {
    "collapsed": true
   },
   "outputs": [],
   "source": [
    "def feature_importance_scores(model_xgb, column_names, cv_index, cv_score): \n",
    "    \"\"\" Takes fit XGBOOST model, column names, validation set index, and validation RMSLE score as inputs. \n",
    "        Plot and saves XGBOOST feature importance scores.\n",
    "    \"\"\"\n",
    "    # Create dataframe of feature importance scores\n",
    "    fscore = model_xgb.booster().get_fscore()\n",
    "    feature_importances = []\n",
    "    for ft, score in fscore.iteritems(): \n",
    "        ft = column_names[int(re.sub(\"[^0-9]\",\"\", ft))]\n",
    "        feature_importances.append({'Feature': ft, 'Importance': score})\n",
    "    feature_importances = pd.DataFrame(feature_importances)\n",
    "    feature_importances = feature_importances.sort_values(by = 'Importance', ascending = False).reset_index(drop=True)\n",
    "    feature_importances['Importance'] = feature_importances['Importance'] / feature_importances['Importance'].sum()\n",
    "    \n",
    "    feature_names = feature_importances['Feature']\n",
    "    importances = feature_importances['Importance']\n",
    "    y_pos = np.asarray(range(len(feature_names), 0, -1))\n",
    "    \n",
    "    # Plot scores\n",
    "    plt.barh(y_pos, importances, align = 'center', alpha = 1.0)\n",
    "    plt.yticks(y_pos, feature_names) \n",
    "    plt.xlabel('Scores')    \n",
    "    plt.title('Feature Importance Scores')\n",
    "\n",
    "    # Save to file\n",
    "    os.chdir('D:/OneDrive/Documents/Kaggle/Grupo Bimbo Inventory Demand/schema') \n",
    "    plt.savefig('feature_importances_xgb_' + '_' + 'Semana_' + str(cv_index) + '_' + 'cv_score_' + str(round(cv_score, 4)) + '_' + 'LB_score_' + '.png')\n",
    "    os.chdir('D:/OneDrive/Documents/Kaggle/Grupo Bimbo Inventory Demand/data')     \n",
    "    \n",
    "    # Display plot\n",
    "    plt.show()\n",
    "    \n",
    "    return feature_importances"
   ]
  },
  {
   "cell_type": "markdown",
   "metadata": {},
   "source": [
    "### Fit XGBOOST model to data"
   ]
  },
  {
   "cell_type": "code",
   "execution_count": 12,
   "metadata": {
    "collapsed": true
   },
   "outputs": [],
   "source": [
    "def fit_model_xgb(model, y_train, X_train, y_validation, X_validation, column_names): \n",
    "    \"\"\" Takes XGBOOST model, all data sets excluding test, and data column names as inputs.\n",
    "        Fits XGBOOST model on train data and checks RMSLE score on validation data.\n",
    "    \"\"\"\n",
    "    # Start timer\n",
    "    start = time.time()\n",
    "    \n",
    "    # Build predictive model\n",
    "    print \"Fitting predictive model...\"\n",
    "    model.fit(X_train, np.log1p(y_train)\n",
    "            , eval_set = [(X_train, y_train), (X_validation, y_validation)]\n",
    "            , eval_metric = \"rmse\"\n",
    "            , early_stopping_rounds = 5) \n",
    "    print \"Model fitting complete!!!\"\n",
    "    \n",
    "    # Generate and print CV RMSLE score: ....\n",
    "    preds_validation = np.expm1(model.predict(X_validation))   \n",
    "    cv_score = RMSLE(y_validation, preds_validation)  \n",
    "    print \"Validation Score (RMSLE): \"+ str(round(cv_score, 4))   \n",
    "\n",
    "    # Plot learning curves\n",
    "    plot_learning_curves(model)\n",
    "    print ''\n",
    "\n",
    "    # Plot and save feature importance scores\n",
    "    feature_importances = feature_importance_scores(model, column_names, cv_index, cv_score)         \n",
    "    print feature_importances   \n",
    "    print ''\n",
    "    \n",
    "    # Calculate time elapsed\n",
    "    end = time.time()\n",
    "    time_elapsed = (end - start)    \n",
    "    \n",
    "    # Print completion messages\n",
    "    print \"Model building complete!\"\n",
    "    print \"Time Elapsed: \" + str(time_elapsed) + \" seconds\"   \n",
    "    \n",
    "    return model, cv_score, feature_importances, time_elapsed"
   ]
  },
  {
   "cell_type": "code",
   "execution_count": 13,
   "metadata": {
    "collapsed": false
   },
   "outputs": [
    {
     "name": "stdout",
     "output_type": "stream",
     "text": [
      "4. Fitting data to model...\n",
      "Fitting predictive model...\n",
      "[0]\tvalidation_0-rmse:22.6701\tvalidation_1-rmse:22.7422\n",
      "Multiple eval metrics have been passed: 'validation_1-rmse' will be used for early stopping.\n",
      "\n",
      "Will train until validation_1-rmse hasn't improved in 5 rounds.\n",
      "[1]\tvalidation_0-rmse:22.5472\tvalidation_1-rmse:22.6208\n",
      "[2]\tvalidation_0-rmse:22.4563\tvalidation_1-rmse:22.5309\n",
      "[3]\tvalidation_0-rmse:22.3883\tvalidation_1-rmse:22.4639\n",
      "[4]\tvalidation_0-rmse:22.3374\tvalidation_1-rmse:22.4138\n",
      "[5]\tvalidation_0-rmse:22.2993\tvalidation_1-rmse:22.3763\n",
      "[6]\tvalidation_0-rmse:22.2707\tvalidation_1-rmse:22.3481\n",
      "[7]\tvalidation_0-rmse:22.2491\tvalidation_1-rmse:22.3266\n",
      "[8]\tvalidation_0-rmse:22.2328\tvalidation_1-rmse:22.3108\n",
      "[9]\tvalidation_0-rmse:22.2204\tvalidation_1-rmse:22.2986\n",
      "[10]\tvalidation_0-rmse:22.2109\tvalidation_1-rmse:22.2894\n",
      "[11]\tvalidation_0-rmse:22.2036\tvalidation_1-rmse:22.2823\n",
      "[12]\tvalidation_0-rmse:22.1981\tvalidation_1-rmse:22.2773\n",
      "[13]\tvalidation_0-rmse:22.1937\tvalidation_1-rmse:22.2733\n",
      "[14]\tvalidation_0-rmse:22.1904\tvalidation_1-rmse:22.2702\n",
      "[15]\tvalidation_0-rmse:22.1876\tvalidation_1-rmse:22.2677\n",
      "[16]\tvalidation_0-rmse:22.1855\tvalidation_1-rmse:22.2657\n",
      "[17]\tvalidation_0-rmse:22.1836\tvalidation_1-rmse:22.2641\n",
      "[18]\tvalidation_0-rmse:22.1823\tvalidation_1-rmse:22.263\n",
      "[19]\tvalidation_0-rmse:22.1812\tvalidation_1-rmse:22.2622\n",
      "[20]\tvalidation_0-rmse:22.1803\tvalidation_1-rmse:22.2615\n",
      "[21]\tvalidation_0-rmse:22.1797\tvalidation_1-rmse:22.261\n",
      "[22]\tvalidation_0-rmse:22.1791\tvalidation_1-rmse:22.2605\n",
      "[23]\tvalidation_0-rmse:22.1785\tvalidation_1-rmse:22.2601\n",
      "[24]\tvalidation_0-rmse:22.1781\tvalidation_1-rmse:22.2598\n",
      "[25]\tvalidation_0-rmse:22.1776\tvalidation_1-rmse:22.2595\n",
      "[26]\tvalidation_0-rmse:22.1772\tvalidation_1-rmse:22.2591\n",
      "[27]\tvalidation_0-rmse:22.1769\tvalidation_1-rmse:22.2589\n",
      "[28]\tvalidation_0-rmse:22.1766\tvalidation_1-rmse:22.2587\n",
      "[29]\tvalidation_0-rmse:22.1764\tvalidation_1-rmse:22.2586\n",
      "[30]\tvalidation_0-rmse:22.1761\tvalidation_1-rmse:22.2584\n",
      "[31]\tvalidation_0-rmse:22.1758\tvalidation_1-rmse:22.2581\n",
      "[32]\tvalidation_0-rmse:22.1756\tvalidation_1-rmse:22.258\n",
      "[33]\tvalidation_0-rmse:22.1755\tvalidation_1-rmse:22.2579\n",
      "[34]\tvalidation_0-rmse:22.1753\tvalidation_1-rmse:22.2578\n",
      "[35]\tvalidation_0-rmse:22.1751\tvalidation_1-rmse:22.2578\n",
      "[36]\tvalidation_0-rmse:22.1749\tvalidation_1-rmse:22.2577\n",
      "[37]\tvalidation_0-rmse:22.1748\tvalidation_1-rmse:22.2577\n",
      "[38]\tvalidation_0-rmse:22.1746\tvalidation_1-rmse:22.2576\n",
      "[39]\tvalidation_0-rmse:22.1744\tvalidation_1-rmse:22.2575\n",
      "[40]\tvalidation_0-rmse:22.1742\tvalidation_1-rmse:22.2573\n",
      "[41]\tvalidation_0-rmse:22.1741\tvalidation_1-rmse:22.2574\n",
      "[42]\tvalidation_0-rmse:22.174\tvalidation_1-rmse:22.2573\n",
      "[43]\tvalidation_0-rmse:22.1739\tvalidation_1-rmse:22.2573\n",
      "[44]\tvalidation_0-rmse:22.1737\tvalidation_1-rmse:22.2572\n",
      "[45]\tvalidation_0-rmse:22.1736\tvalidation_1-rmse:22.2572\n",
      "[46]\tvalidation_0-rmse:22.1735\tvalidation_1-rmse:22.2571\n",
      "[47]\tvalidation_0-rmse:22.1733\tvalidation_1-rmse:22.257\n",
      "[48]\tvalidation_0-rmse:22.1732\tvalidation_1-rmse:22.257\n",
      "[49]\tvalidation_0-rmse:22.1732\tvalidation_1-rmse:22.2569\n",
      "[50]\tvalidation_0-rmse:22.173\tvalidation_1-rmse:22.2568\n",
      "[51]\tvalidation_0-rmse:22.1728\tvalidation_1-rmse:22.2568\n",
      "[52]\tvalidation_0-rmse:22.1727\tvalidation_1-rmse:22.2567\n",
      "[53]\tvalidation_0-rmse:22.1725\tvalidation_1-rmse:22.2566\n",
      "[54]\tvalidation_0-rmse:22.1724\tvalidation_1-rmse:22.2566\n",
      "[55]\tvalidation_0-rmse:22.1723\tvalidation_1-rmse:22.2566\n",
      "[56]\tvalidation_0-rmse:22.1723\tvalidation_1-rmse:22.2566\n",
      "[57]\tvalidation_0-rmse:22.1722\tvalidation_1-rmse:22.2566\n",
      "[58]\tvalidation_0-rmse:22.172\tvalidation_1-rmse:22.2565\n",
      "[59]\tvalidation_0-rmse:22.1719\tvalidation_1-rmse:22.2564\n",
      "[60]\tvalidation_0-rmse:22.1718\tvalidation_1-rmse:22.2564\n",
      "[61]\tvalidation_0-rmse:22.1716\tvalidation_1-rmse:22.2562\n",
      "[62]\tvalidation_0-rmse:22.1716\tvalidation_1-rmse:22.2562\n",
      "[63]\tvalidation_0-rmse:22.1715\tvalidation_1-rmse:22.2562\n",
      "[64]\tvalidation_0-rmse:22.1714\tvalidation_1-rmse:22.2562\n",
      "[65]\tvalidation_0-rmse:22.1713\tvalidation_1-rmse:22.2562\n",
      "[66]\tvalidation_0-rmse:22.1712\tvalidation_1-rmse:22.2561\n",
      "[67]\tvalidation_0-rmse:22.1711\tvalidation_1-rmse:22.256\n",
      "[68]\tvalidation_0-rmse:22.1711\tvalidation_1-rmse:22.256\n",
      "[69]\tvalidation_0-rmse:22.171\tvalidation_1-rmse:22.256\n",
      "[70]\tvalidation_0-rmse:22.1709\tvalidation_1-rmse:22.2559\n",
      "[71]\tvalidation_0-rmse:22.1709\tvalidation_1-rmse:22.2559\n",
      "[72]\tvalidation_0-rmse:22.1708\tvalidation_1-rmse:22.2558\n",
      "[73]\tvalidation_0-rmse:22.1707\tvalidation_1-rmse:22.2558\n",
      "[74]\tvalidation_0-rmse:22.1705\tvalidation_1-rmse:22.2557\n",
      "[75]\tvalidation_0-rmse:22.1704\tvalidation_1-rmse:22.2557\n",
      "[76]\tvalidation_0-rmse:22.1704\tvalidation_1-rmse:22.2556\n",
      "[77]\tvalidation_0-rmse:22.1702\tvalidation_1-rmse:22.2556\n",
      "[78]\tvalidation_0-rmse:22.1701\tvalidation_1-rmse:22.2555\n",
      "[79]\tvalidation_0-rmse:22.1701\tvalidation_1-rmse:22.2555\n",
      "[80]\tvalidation_0-rmse:22.17\tvalidation_1-rmse:22.2555\n",
      "[81]\tvalidation_0-rmse:22.17\tvalidation_1-rmse:22.2555\n",
      "[82]\tvalidation_0-rmse:22.1699\tvalidation_1-rmse:22.2555\n",
      "[83]\tvalidation_0-rmse:22.1699\tvalidation_1-rmse:22.2555\n",
      "[84]\tvalidation_0-rmse:22.1697\tvalidation_1-rmse:22.2554\n",
      "[85]\tvalidation_0-rmse:22.1696\tvalidation_1-rmse:22.2553\n",
      "[86]\tvalidation_0-rmse:22.1696\tvalidation_1-rmse:22.2553\n",
      "[87]\tvalidation_0-rmse:22.1695\tvalidation_1-rmse:22.2552\n",
      "[88]\tvalidation_0-rmse:22.1694\tvalidation_1-rmse:22.2552\n",
      "[89]\tvalidation_0-rmse:22.1693\tvalidation_1-rmse:22.2552\n",
      "[90]\tvalidation_0-rmse:22.1693\tvalidation_1-rmse:22.2552\n",
      "[91]\tvalidation_0-rmse:22.1692\tvalidation_1-rmse:22.2552\n",
      "[92]\tvalidation_0-rmse:22.1691\tvalidation_1-rmse:22.2551\n",
      "[93]\tvalidation_0-rmse:22.1691\tvalidation_1-rmse:22.2551\n",
      "[94]\tvalidation_0-rmse:22.169\tvalidation_1-rmse:22.2551\n",
      "[95]\tvalidation_0-rmse:22.1689\tvalidation_1-rmse:22.255\n",
      "[96]\tvalidation_0-rmse:22.1689\tvalidation_1-rmse:22.255\n",
      "[97]\tvalidation_0-rmse:22.1688\tvalidation_1-rmse:22.255\n",
      "[98]\tvalidation_0-rmse:22.1688\tvalidation_1-rmse:22.255\n",
      "[99]\tvalidation_0-rmse:22.1687\tvalidation_1-rmse:22.255\n",
      "Model fitting complete!!!\n",
      "Validation Score (RMSLE): 0.462\n"
     ]
    },
    {
     "data": {
      "image/png": "[encoded data removed]",
      "text/plain": [
       "<matplotlib.figure.Figure at 0x4322cc0>"
      ]
     },
     "metadata": {},
     "output_type": "display_data"
    },
    {
     "name": "stdout",
     "output_type": "stream",
     "text": [
      "\n"
     ]
    },
    {
     "data": {
      "image/png": "[encoded data removed]",
      "text/plain": [
       "<matplotlib.figure.Figure at 0x5b14c710>"
      ]
     },
     "metadata": {},
     "output_type": "display_data"
    },
    {
     "name": "stdout",
     "output_type": "stream",
     "text": [
      "                      Feature  Importance\n",
      "0                  Agencia_ID    0.094961\n",
      "1            Cliente_ID_count    0.077550\n",
      "2                  Cliente_ID    0.075909\n",
      "3              Ruta_SAK_count    0.073164\n",
      "4            Agencia_ID_count    0.068896\n",
      "5   Demanda_uni_equil_tminus2    0.061630\n",
      "6                    Ruta_SAK    0.061186\n",
      "7   Demanda_uni_equil_tminus3    0.056046\n",
      "8                 Producto_ID    0.054402\n",
      "9                      weight    0.050902\n",
      "10  Demanda_uni_equil_tminus4    0.050308\n",
      "11          Producto_ID_count    0.045231\n",
      "12         short_product_name    0.045199\n",
      "13  Demanda_uni_equil_tminus5    0.033622\n",
      "14                     Semana    0.030586\n",
      "15           weight_per_piece    0.029823\n",
      "16                Client_Type    0.025886\n",
      "17                     pieces    0.025808\n",
      "18          Client_Type_count    0.019841\n",
      "19                   Canal_ID    0.012111\n",
      "20             Canal_ID_count    0.006941\n",
      "\n",
      "Model building complete!\n",
      "Time Elapsed: 2359.11299992 seconds\n",
      "Complete!\n"
     ]
    }
   ],
   "source": [
    "print \"4. Fitting data to model...\"\n",
    "model_xgb, cv_score, feature_importances, time_elapsed = fit_model_xgb(model_xgb, y_train, X_train, y_validation, X_validation, column_names)\n",
    "print \"Complete!\""
   ]
  },
  {
   "cell_type": "markdown",
   "metadata": {},
   "source": [
    "### Generate predictions for test data"
   ]
  },
  {
   "cell_type": "code",
   "execution_count": 14,
   "metadata": {
    "collapsed": true
   },
   "outputs": [],
   "source": [
    "def generate_test_predictions(model, test):\n",
    "    \"\"\" Takes fit XGBOOST model and test data as inputs. \n",
    "        Generates and returns model predictions on test data.\n",
    "    \"\"\"\n",
    "    predictions = np.expm1(model.predict(test.values))\n",
    "    return predictions  "
   ]
  },
  {
   "cell_type": "code",
   "execution_count": 15,
   "metadata": {
    "collapsed": false
   },
   "outputs": [
    {
     "name": "stdout",
     "output_type": "stream",
     "text": [
      "5. Generating test set predictions...\n",
      "Complete!\n"
     ]
    }
   ],
   "source": [
    "print \"5. Generating test set predictions...\"\n",
    "test_predictions = generate_test_predictions(model_xgb, test)  \n",
    "print \"Complete!\""
   ]
  },
  {
   "cell_type": "markdown",
   "metadata": {},
   "source": [
    "### Write predictions to CSV"
   ]
  },
  {
   "cell_type": "code",
   "execution_count": 16,
   "metadata": {
    "collapsed": true
   },
   "outputs": [],
   "source": [
    "def generate_submission_CSV_predictions(predictions, cv_score, model_name, cv_index): \n",
    "    \"\"\" Takes predictions, validation RMSLE score, string of model name, and index used for validation set as inputs. \n",
    "        Writes test predictions to CSV file.\n",
    "    \"\"\"             \n",
    "    # Create dataframe with test predictions\n",
    "    df = pd.DataFrame(predictions, dtype = float, columns = ['Demanda_uni_equil'])      \n",
    "    \n",
    "    # Write to csv\n",
    "    os.chdir('D:/OneDrive/Documents/Kaggle/Grupo Bimbo Inventory Demand/submissions')  \n",
    "    name = 'submission_' + model_name + '_' + 'Semana_' + str(cv_index) + '_' + 'cv_score_' + str(round(cv_score, 4)) + '_' + 'LB_score_' + '.csv'\n",
    "    df.to_csv(name, index = True, header = True, index_label = 'id')\n",
    "    os.chdir('D:/OneDrive/Documents/Kaggle/Grupo Bimbo Inventory Demand/data')  "
   ]
  },
  {
   "cell_type": "code",
   "execution_count": 17,
   "metadata": {
    "collapsed": false
   },
   "outputs": [
    {
     "name": "stdout",
     "output_type": "stream",
     "text": [
      "6. Writing predictions to CSV...\n"
     ]
    }
   ],
   "source": [
    "print \"6. Writing predictions to CSV...\" \n",
    "generate_submission_CSV_predictions(test_predictions, cv_score, model_name = 'xgb', cv_index = cv_index)"
   ]
  },
  {
   "cell_type": "markdown",
   "metadata": {},
   "source": [
    "### Process complete!"
   ]
  }
 ],
 "metadata": {
  "kernelspec": {
   "display_name": "Python 2",
   "language": "python",
   "name": "python2"
  },
  "language_info": {
   "codemirror_mode": {
    "name": "ipython",
    "version": 2
   },
   "file_extension": ".py",
   "mimetype": "text/x-python",
   "name": "python",
   "nbconvert_exporter": "python",
   "pygments_lexer": "ipython2",
   "version": "2.7.11"
  }
 },
 "nbformat": 4,
 "nbformat_minor": 0
}
