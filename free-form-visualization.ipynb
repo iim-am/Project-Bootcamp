{
 "cells": [
  {
   "cell_type": "markdown",
   "metadata": {},
   "source": [
    "# Visualize Demand of Top Selling Products "
   ]
  },
  {
   "cell_type": "markdown",
   "metadata": {},
   "source": [
    "### Import Necessary Packages"
   ]
  },
  {
   "cell_type": "code",
   "execution_count": 1,
   "metadata": {
    "collapsed": true
   },
   "outputs": [],
   "source": [
    "import os\n",
    "import numpy as np\n",
    "import pandas as pd\n",
    "%matplotlib inline\n",
    "import matplotlib.pyplot as plt\n",
    "import gc"
   ]
  },
  {
   "cell_type": "markdown",
   "metadata": {},
   "source": [
    "### Load the data "
   ]
  },
  {
   "cell_type": "code",
   "execution_count": 2,
   "metadata": {
    "collapsed": true
   },
   "outputs": [],
   "source": [
    "def load_data(): \n",
    "    \"\"\" Loads and returns train, test, products, and predictions data. \n",
    "    \"\"\"\n",
    "    # Set work directory\n",
    "    os.chdir('D:/OneDrive/Documents/Kaggle/Grupo Bimbo Inventory Demand/data')  \n",
    "    \n",
    "    # Load data\n",
    "    train_types = {'Semana': np.uint8, 'Cliente_ID': np.uint32, 'Producto_ID': np.uint16, 'Demanda_uni_equil': np.float16}  \n",
    "    test_types = {'Semana': np.uint8, 'Cliente_ID': np.uint32, 'Producto_ID': np.uint16}     \n",
    "    product_types = {'Producto_ID': np.uint16, 'short_product_name': np.object}\n",
    "    \n",
    "    train = pd.read_csv(\"train.csv\", sep = \",\", usecols = train_types.keys(), dtype = train_types) \n",
    "    test = pd.read_csv(\"test.csv\", sep = \",\", usecols = test_types.keys(), dtype = test_types) \n",
    "    products = pd.read_csv(\"producto_tabla_modified.csv\", sep = \",\", usecols = product_types.keys(), dtype = product_types) \n",
    "    predictions = pd.read_csv(\"submission_xgb_Semana_9_cv_score_0.4656_LB_score_.csv\", sep = \",\")\n",
    "\n",
    "    # Return data\n",
    "    return train, test, products, predictions"
   ]
  },
  {
   "cell_type": "code",
   "execution_count": 3,
   "metadata": {
    "collapsed": false
   },
   "outputs": [
    {
     "name": "stdout",
     "output_type": "stream",
     "text": [
      "1. Loading data...\n",
      "Complete!\n"
     ]
    }
   ],
   "source": [
    "print \"1. Loading data...\"\n",
    "train, test, products, predictions = load_data() \n",
    "print \"Complete!\""
   ]
  },
  {
   "cell_type": "markdown",
   "metadata": {},
   "source": [
    "### Merge with product data"
   ]
  },
  {
   "cell_type": "code",
   "execution_count": 4,
   "metadata": {
    "collapsed": true
   },
   "outputs": [],
   "source": [
    "def merge_products(train, test, products):\n",
    "    \"\"\" Merge train and test data sets with products dataframe.\n",
    "        Returns modified train and test data.\n",
    "    \"\"\"\n",
    "    # Merge product information\n",
    "    train = train.merge(products, how = 'left', on = ['Producto_ID'])\n",
    "    test = test.merge(products, how = 'left', on = ['Producto_ID'])\n",
    "\n",
    "    return train, test  "
   ]
  },
  {
   "cell_type": "code",
   "execution_count": 5,
   "metadata": {
    "collapsed": false
   },
   "outputs": [
    {
     "name": "stdout",
     "output_type": "stream",
     "text": [
      "2. Merge data with products dataframe...\n",
      "Complete!\n"
     ]
    }
   ],
   "source": [
    "print \"2. Merge data with products dataframe...\"\n",
    "train, test = merge_products(train, test, products)\n",
    "print \"Complete!\""
   ]
  },
  {
   "cell_type": "markdown",
   "metadata": {},
   "source": [
    "### Concatenate predictions with test data"
   ]
  },
  {
   "cell_type": "code",
   "execution_count": 6,
   "metadata": {
    "collapsed": true
   },
   "outputs": [],
   "source": [
    "def concatenate_data(train, test, predictions):\n",
    "    \"\"\" Adds predictions as column in test data labelled 'Demanda_uni_equil'. \n",
    "        Reorders columns in train and test data.\n",
    "        Concatenates train and test sets together row-wise, preserving columns of dataframes. \n",
    "        Returns concatenated data set.\n",
    "    \"\"\"\n",
    "    test = pd.concat([test, predictions], axis = 1)\n",
    "    test = test.drop('id', axis = 1)    \n",
    "    \n",
    "    columns = ['Semana', 'Cliente_ID', 'Producto_ID', 'short_product_name', 'Demanda_uni_equil']\n",
    "    train = train[columns]\n",
    "    test = test[columns]\n",
    "    \n",
    "    train = pd.concat([train, test], axis = 0)\n",
    "    return train"
   ]
  },
  {
   "cell_type": "code",
   "execution_count": 7,
   "metadata": {
    "collapsed": false
   },
   "outputs": [
    {
     "name": "stdout",
     "output_type": "stream",
     "text": [
      "3. Concatenate data...\n",
      "Complete!\n"
     ]
    }
   ],
   "source": [
    "print \"3. Concatenate data...\"\n",
    "data = concatenate_data(train, test, predictions)\n",
    "\n",
    "# Remove other dataframes from memory\n",
    "del train, test, predictions\n",
    "gc.collect()\n",
    "    \n",
    "print \"Complete!\""
   ]
  },
  {
   "cell_type": "markdown",
   "metadata": {},
   "source": [
    "The data should now have the combined train and test data with predictions with Semana (week) in 10 and 11. Let's take a look at the header of the data..."
   ]
  },
  {
   "cell_type": "code",
   "execution_count": 8,
   "metadata": {
    "collapsed": false
   },
   "outputs": [
    {
     "data": {
      "text/html": [
       "<div>\n",
       "<table border=\"1\" class=\"dataframe\">\n",
       "  <thead>\n",
       "    <tr style=\"text-align: right;\">\n",
       "      <th></th>\n",
       "      <th>Semana</th>\n",
       "      <th>Cliente_ID</th>\n",
       "      <th>Producto_ID</th>\n",
       "      <th>short_product_name</th>\n",
       "      <th>Demanda_uni_equil</th>\n",
       "    </tr>\n",
       "  </thead>\n",
       "  <tbody>\n",
       "    <tr>\n",
       "      <th>0</th>\n",
       "      <td>3</td>\n",
       "      <td>15766</td>\n",
       "      <td>1212</td>\n",
       "      <td>rol canel</td>\n",
       "      <td>3.0</td>\n",
       "    </tr>\n",
       "    <tr>\n",
       "      <th>1</th>\n",
       "      <td>3</td>\n",
       "      <td>15766</td>\n",
       "      <td>1216</td>\n",
       "      <td>rol glass</td>\n",
       "      <td>4.0</td>\n",
       "    </tr>\n",
       "    <tr>\n",
       "      <th>2</th>\n",
       "      <td>3</td>\n",
       "      <td>15766</td>\n",
       "      <td>1238</td>\n",
       "      <td>panquecit got choc</td>\n",
       "      <td>4.0</td>\n",
       "    </tr>\n",
       "    <tr>\n",
       "      <th>3</th>\n",
       "      <td>3</td>\n",
       "      <td>15766</td>\n",
       "      <td>1240</td>\n",
       "      <td>mantec vainill</td>\n",
       "      <td>4.0</td>\n",
       "    </tr>\n",
       "    <tr>\n",
       "      <th>4</th>\n",
       "      <td>3</td>\n",
       "      <td>15766</td>\n",
       "      <td>1242</td>\n",
       "      <td>donit espolvor</td>\n",
       "      <td>3.0</td>\n",
       "    </tr>\n",
       "  </tbody>\n",
       "</table>\n",
       "</div>"
      ],
      "text/plain": [
       "   Semana  Cliente_ID  Producto_ID  short_product_name  Demanda_uni_equil\n",
       "0       3       15766         1212           rol canel                3.0\n",
       "1       3       15766         1216           rol glass                4.0\n",
       "2       3       15766         1238  panquecit got choc                4.0\n",
       "3       3       15766         1240      mantec vainill                4.0\n",
       "4       3       15766         1242      donit espolvor                3.0"
      ]
     },
     "execution_count": 8,
     "metadata": {},
     "output_type": "execute_result"
    }
   ],
   "source": [
    "data.head()"
   ]
  },
  {
   "cell_type": "markdown",
   "metadata": {},
   "source": [
    "From our exploratory analysis in another Jupyter notebook, we know that nit, gansit, reban, and pan blanc are the top 4 best selling products in our data. Let's visualize the mean adjusted sales of each product by week..."
   ]
  },
  {
   "cell_type": "code",
   "execution_count": 9,
   "metadata": {
    "collapsed": false
   },
   "outputs": [
    {
     "name": "stdout",
     "output_type": "stream",
     "text": [
      "4. Show mean demand for top 2 products by week...\n",
      "Shape: (36, 3)\n"
     ]
    },
    {
     "data": {
      "text/html": [
       "<div>\n",
       "<table border=\"1\" class=\"dataframe\">\n",
       "  <thead>\n",
       "    <tr style=\"text-align: right;\">\n",
       "      <th></th>\n",
       "      <th>Semana</th>\n",
       "      <th>short_product_name</th>\n",
       "      <th>Adjusted Sales</th>\n",
       "    </tr>\n",
       "  </thead>\n",
       "  <tbody>\n",
       "    <tr>\n",
       "      <th>0</th>\n",
       "      <td>3</td>\n",
       "      <td>gansit</td>\n",
       "      <td>13.282085</td>\n",
       "    </tr>\n",
       "    <tr>\n",
       "      <th>1</th>\n",
       "      <td>4</td>\n",
       "      <td>gansit</td>\n",
       "      <td>13.056975</td>\n",
       "    </tr>\n",
       "    <tr>\n",
       "      <th>2</th>\n",
       "      <td>5</td>\n",
       "      <td>gansit</td>\n",
       "      <td>13.490020</td>\n",
       "    </tr>\n",
       "    <tr>\n",
       "      <th>3</th>\n",
       "      <td>6</td>\n",
       "      <td>gansit</td>\n",
       "      <td>12.990436</td>\n",
       "    </tr>\n",
       "    <tr>\n",
       "      <th>4</th>\n",
       "      <td>7</td>\n",
       "      <td>gansit</td>\n",
       "      <td>12.929077</td>\n",
       "    </tr>\n",
       "    <tr>\n",
       "      <th>5</th>\n",
       "      <td>8</td>\n",
       "      <td>gansit</td>\n",
       "      <td>12.588106</td>\n",
       "    </tr>\n",
       "    <tr>\n",
       "      <th>6</th>\n",
       "      <td>9</td>\n",
       "      <td>gansit</td>\n",
       "      <td>12.781615</td>\n",
       "    </tr>\n",
       "    <tr>\n",
       "      <th>7</th>\n",
       "      <td>10</td>\n",
       "      <td>gansit</td>\n",
       "      <td>10.821687</td>\n",
       "    </tr>\n",
       "    <tr>\n",
       "      <th>8</th>\n",
       "      <td>11</td>\n",
       "      <td>gansit</td>\n",
       "      <td>10.781094</td>\n",
       "    </tr>\n",
       "  </tbody>\n",
       "</table>\n",
       "</div>"
      ],
      "text/plain": [
       "   Semana short_product_name  Adjusted Sales\n",
       "0       3             gansit       13.282085\n",
       "1       4             gansit       13.056975\n",
       "2       5             gansit       13.490020\n",
       "3       6             gansit       12.990436\n",
       "4       7             gansit       12.929077\n",
       "5       8             gansit       12.588106\n",
       "6       9             gansit       12.781615\n",
       "7      10             gansit       10.821687\n",
       "8      11             gansit       10.781094"
      ]
     },
     "execution_count": 9,
     "metadata": {},
     "output_type": "execute_result"
    }
   ],
   "source": [
    "print \"4. Show mean demand for top 2 products by week...\"\n",
    "top_products = ['nit', 'gansit', 'reban', 'pan blanc']\n",
    "columns = ['Semana', 'short_product_name', 'Demanda_uni_equil']\n",
    "data = data.ix[data['short_product_name'].isin(top_products), columns]\n",
    "columns.remove('Demanda_uni_equil')\n",
    "df = pd.DataFrame({'Adjusted Sales' : data.groupby(columns)['Demanda_uni_equil'].mean()}).reset_index()      \n",
    "df = df.sort_values(by = ['short_product_name', 'Semana'], ascending = True)\n",
    "df = df.reset_index(drop = True)\n",
    "print 'Shape: ' + str(df.shape)\n",
    "df.head(n=9)"
   ]
  },
  {
   "cell_type": "markdown",
   "metadata": {},
   "source": [
    "### Visualize adjusted sales"
   ]
  },
  {
   "cell_type": "code",
   "execution_count": 11,
   "metadata": {
    "collapsed": false
   },
   "outputs": [
    {
     "data": {
      "image/png": "[encoded data removed]",
      "text/plain": [
       "<matplotlib.figure.Figure at 0x3589deb8>"
      ]
     },
     "metadata": {},
     "output_type": "display_data"
    }
   ],
   "source": [
    "plt.plot(df.ix[df['short_product_name'] == 'nit', 'Semana'], df.ix[df['short_product_name'] == 'nit', 'Adjusted Sales']\n",
    "         , label = 'nit', color = 'r')\n",
    "plt.plot(df.ix[df['short_product_name'] == 'gansit', 'Semana'], df.ix[df['short_product_name'] == 'gansit', 'Adjusted Sales']\n",
    "         , label = 'gansit', color = 'b')\n",
    "plt.plot(df.ix[df['short_product_name'] == 'reban', 'Semana'], df.ix[df['short_product_name'] == 'reban', 'Adjusted Sales']\n",
    "         , label = 'reban', color = 'c')\n",
    "plt.plot(df.ix[df['short_product_name'] == 'pan blanc', 'Semana'], df.ix[df['short_product_name'] == 'pan blanc', 'Adjusted Sales']\n",
    "         , label = 'pan blanc', color = 'black')\n",
    "\n",
    "plt.axvline(x=9.5, linewidth=2, color='black')\n",
    "plt.xlabel('Semana (week)')\n",
    "plt.ylabel('Mean Adjusted Sales')\n",
    "plt.title('Adjusted Weekly Sales by Product Name')\n",
    "plt.legend(loc='center left', bbox_to_anchor=(1, 0.5))\n",
    "plt.show()"
   ]
  },
  {
   "cell_type": "markdown",
   "metadata": {
    "collapsed": true
   },
   "source": [
    "Mean Adjusted Weekly Sales for the train data are shown on the left-hand side of the thick, vertical black line, and sales for the test data are shown on its right-hand side. We can see that the predicted Adjusted Demand in the test data is lower than in the prior weeks for each of the different products. However, each of the products have differing sales trends."
   ]
  }
 ],
 "metadata": {
  "kernelspec": {
   "display_name": "Python 2",
   "language": "python",
   "name": "python2"
  },
  "language_info": {
   "codemirror_mode": {
    "name": "ipython",
    "version": 2
   },
   "file_extension": ".py",
   "mimetype": "text/x-python",
   "name": "python",
   "nbconvert_exporter": "python",
   "pygments_lexer": "ipython2",
   "version": "2.7.11"
  }
 },
 "nbformat": 4,
 "nbformat_minor": 0
}
