{
 "cells": [
  {
   "cell_type": "markdown",
   "metadata": {},
   "source": [
    "# Modify Client and Product data"
   ]
  },
  {
   "cell_type": "markdown",
   "metadata": {},
   "source": [
    "Client features inspired by: https://www.kaggle.com/abbysobh/grupo-bimbo-inventory-demand/classifying-client-type-using-client-names\n",
    "\n",
    "Product features based on: https://www.kaggle.com/vykhand/grupo-bimbo-inventory-demand/exploring-products"
   ]
  },
  {
   "cell_type": "markdown",
   "metadata": {},
   "source": [
    "### Import Necessary Packages"
   ]
  },
  {
   "cell_type": "code",
   "execution_count": 18,
   "metadata": {
    "collapsed": true
   },
   "outputs": [],
   "source": [
    "import os\n",
    "import numpy as np\n",
    "import pandas as pd\n",
    "import re\n",
    "from nltk import word_tokenize\n",
    "from nltk.stem import SnowballStemmer\n",
    "from nltk.corpus import stopwords\n",
    "stemmer = SnowballStemmer('spanish')\n",
    "from sklearn.feature_extraction.text import TfidfVectorizer"
   ]
  },
  {
   "cell_type": "markdown",
   "metadata": {},
   "source": [
    "### Load the data"
   ]
  },
  {
   "cell_type": "code",
   "execution_count": 19,
   "metadata": {
    "collapsed": true
   },
   "outputs": [],
   "source": [
    "def load_data():\n",
    "    \"\"\" Loads and returns client and product data.\n",
    "    \"\"\"\n",
    "    # Set work directory\n",
    "    os.chdir('D:/OneDrive/Documents/Kaggle/Grupo Bimbo Inventory Demand/data')  \n",
    "    \n",
    "    # Load data\n",
    "    clients = pd.read_csv(\"cliente_tabla.csv\", sep = \",\") \n",
    "    products = pd.read_csv(\"producto_tabla.csv\", sep = \",\") \n",
    "    \n",
    "    # Return data\n",
    "    return clients, products "
   ]
  },
  {
   "cell_type": "code",
   "execution_count": 20,
   "metadata": {
    "collapsed": false
   },
   "outputs": [
    {
     "name": "stdout",
     "output_type": "stream",
     "text": [
      "1. Loading client and product data...\n",
      "Complete!\n"
     ]
    }
   ],
   "source": [
    "print \"1. Loading client and product data...\"\n",
    "clients, products = load_data()\n",
    "print \"Complete!\""
   ]
  },
  {
   "cell_type": "markdown",
   "metadata": {},
   "source": [
    "### Build function to remove duplicate ids from client data "
   ]
  },
  {
   "cell_type": "code",
   "execution_count": 21,
   "metadata": {
    "collapsed": true
   },
   "outputs": [],
   "source": [
    "def remove_duplicate_ids(clients): \n",
    "    \"\"\" Finds and removes duplicate ids from client data. Returns cleaned data.\n",
    "    \"\"\"\n",
    "    duplicate_ids = clients.duplicated(subset = 'Cliente_ID')    \n",
    "    clients = clients[duplicate_ids == False]    \n",
    "    return clients"
   ]
  },
  {
   "cell_type": "markdown",
   "metadata": {},
   "source": [
    "### Create Client_type feature"
   ]
  },
  {
   "cell_type": "code",
   "execution_count": 22,
   "metadata": {
    "collapsed": true
   },
   "outputs": [],
   "source": [
    "def create_client_features(clients):\n",
    "    \"\"\" Takes clients data as input.  \n",
    "        Creates new variable 'Client_Type' by categorizing NombreCliente. \n",
    "        Returns clients data.\n",
    "    \"\"\"\n",
    "    \n",
    "    # Remove duplicate ids\n",
    "    clients = remove_duplicate_ids(clients)    \n",
    "    \n",
    "    # Create new feature\n",
    "    clients = clients.copy()\n",
    "    clients['Client_Type'] = clients.ix[:, 'NombreCliente']    \n",
    "    \n",
    "    # Convert to all UPPER-CASE\n",
    "    clients.ix[:, 'Client_Type'] = clients.ix[:, 'Client_Type'].str.upper()\n",
    "    \n",
    "    # Known Large Company / Special Group Types\n",
    "    clients.ix[:, 'Client_Type'] = clients.ix[:, 'Client_Type'].str.replace('.*REMISION.*','Consignment')\n",
    "    clients.ix[:, 'Client_Type'] = clients.ix[:, 'Client_Type'].replace(['.*WAL MART.*','.*SAMS CLUB.*'],'Walmart', regex=True)\n",
    "    clients.ix[:, 'Client_Type'] = clients.ix[:, 'Client_Type'].str.replace('.*OXXO.*','Oxxo Store')\n",
    "    clients.ix[:, 'Client_Type'] = clients.ix[:, 'Client_Type'].str.replace('.*CONASUPO.*','Govt Store')\n",
    "    clients.ix[:, 'Client_Type'] = clients.ix[:, 'Client_Type'].str.replace('.*BIMBO.*','Bimbo Store')\n",
    "    \n",
    "    # Term search for assortment of words picked from looking at their frequencies\n",
    "    clients.ix[:, 'Client_Type'] = clients.ix[:, 'Client_Type'].replace(['.*COLEG.*','.*UNIV.*','.*ESCU.*','.*INSTI.*',\\\n",
    "                                                        '.*PREPAR.*'],'School', regex=True)\n",
    "    clients.ix[:, 'Client_Type'] = clients.ix[:, 'Client_Type'].str.replace('.*PUESTO.*','Post')\n",
    "    clients.ix[:, 'Client_Type'] = clients.ix[:, 'Client_Type'].replace(['.*FARMA.*','.*HOSPITAL.*','.*CLINI.*'],'Hospital/Pharmacy', regex=True)\n",
    "    clients.ix[:, 'Client_Type'] = clients.ix[:, 'Client_Type'].replace(['.*CAFE.*','.*CREMERIA.*','.*DULCERIA.*',\\\n",
    "                                                        '.*REST.*','.*BURGER.*','.*TACO.*', '.*TORTA.*',\\\n",
    "                                                        '.*TAQUER.*','.*HOT DOG.*',\\\n",
    "                                                        '.*COMEDOR.*', '.*ERIA.*','.*BURGU.*'],'Eatery', regex=True)\n",
    "    clients.ix[:, 'Client_Type'] = clients.ix[:, 'Client_Type'].str.replace('.*SUPER.*','Supermarket')\n",
    "    clients.ix[:, 'Client_Type'] = clients.ix[:, 'Client_Type'].replace(['.*COMERCIAL.*','.*BODEGA.*','.*DEPOSITO.*',\\\n",
    "                                                            '.*ABARROTES.*','.*MERCADO.*','.*CAMBIO.*',\\\n",
    "                                                        '.*MARKET.*','.*MART .*','.*MINI .*',\\\n",
    "                                                        '.*PLAZA.*','.*MISC.*','.*ELEVEN.*','.*EXP.*',\\\n",
    "                                                         '.*SNACK.*', '.*PAPELERIA.*', '.*CARNICERIA.*',\\\n",
    "                                                         '.*LOCAL.*','.*COMODIN.*','.*PROVIDENCIA.*'\n",
    "                                                        ],'General Market/Mart'\\\n",
    "                                                       , regex=True)                                                   \n",
    "    clients.ix[:, 'Client_Type'] = clients.ix[:, 'Client_Type'].replace(['.*VERDU.*','.*FRUT.*'],'Fresh Market', regex=True)\n",
    "    clients.ix[:, 'Client_Type'] = clients.ix[:, 'Client_Type'].replace(['.*HOTEL.*','.*MOTEL.*'],'Hotel', regex=True)    \n",
    " \n",
    "    # Filter participles\n",
    "    clients.ix[:, 'Client_Type'] = clients.ix[:, 'Client_Type'].replace([\n",
    "            '.*LA .*','.*EL .*','.*DE .*','.*LOS .*','.*DEL .*','.*Y .*', '.*SAN .*', '.*SANTA .*',\\\n",
    "            '.*AG .*','.*LAS .*','.*MI .*','.*MA .*', '.*II.*', '.*[0-9]+.*'\\\n",
    "                ],'Small Franchise', regex=True)\n",
    "               \n",
    "    # Everything else bucketed into 'Individual'\n",
    "    def filter_remaining(clients):\n",
    "        def function_word(data):\n",
    "            # Avoid the single-words created so far by checking for upper-case\n",
    "            if (data.isupper()) and (data != \"NO IDENTIFICADO\"): \n",
    "                return 'Individual'\n",
    "            else:\n",
    "                return data\n",
    "        clients.ix[:, 'Client_Type'] = clients.ix[:, 'Client_Type'].map(function_word)\n",
    "    filter_remaining(clients)\n",
    "    \n",
    "    return clients"
   ]
  },
  {
   "cell_type": "code",
   "execution_count": 23,
   "metadata": {
    "collapsed": false
   },
   "outputs": [
    {
     "name": "stdout",
     "output_type": "stream",
     "text": [
      "2. Generating new client features...\n",
      "Complete!\n",
      "   Cliente_ID                            NombreCliente      Client_Type\n",
      "0           0                               SIN NOMBRE       Individual\n",
      "1           1                         OXXO XINANTECATL       Oxxo Store\n",
      "2           2                               SIN NOMBRE       Individual\n",
      "3           3                                EL MORENO  Small Franchise\n",
      "4           4  SDN SER  DE ALIM  CUERPO SA CIA  DE INT  Small Franchise\n"
     ]
    }
   ],
   "source": [
    "print \"2. Generating new client features...\"\n",
    "clients = create_client_features(clients)\n",
    "print \"Complete!\"\n",
    "print clients.head()"
   ]
  },
  {
   "cell_type": "markdown",
   "metadata": {},
   "source": [
    "### Create new product features: short_product_name, brand, weight, weight_per_piece"
   ]
  },
  {
   "cell_type": "code",
   "execution_count": 24,
   "metadata": {
    "collapsed": true
   },
   "outputs": [],
   "source": [
    "def create_product_features(products):\n",
    "    \"\"\" Takes products data as input and builds new features. \n",
    "        Returns modified products data.\n",
    "    \"\"\"\n",
    "    # Split NombreProducto and create new columns\n",
    "    products['short_name'] = products['NombreProducto'].str.extract('^(\\D*)', expand=False)\n",
    "    products['brand'] = products['NombreProducto'].str.extract('^.+\\s(\\D+) \\d+$', expand=False)\n",
    "    w = products['NombreProducto'].str.extract('(\\d+)(Kg|g)', expand=True)\n",
    "    products['weight'] = w[0].astype('float')*w[1].map({'Kg':1000, 'g':1})\n",
    "    products['pieces'] =  products['NombreProducto'].str.extract('(\\d+)p ', expand=False).astype('float')\n",
    "    products['weight_per_piece'] = products['weight'] / products['pieces']\n",
    "\n",
    "    products['short_product_name'] = (products['short_name']\n",
    "                                        .map(lambda x: \" \".join([i for i in x.lower()\n",
    "                                                                 .split() if i not in stopwords.words(\"spanish\")])))    \n",
    " \n",
    "\n",
    "    products['short_product_name'] = (products['short_product_name']\n",
    "                                        .map(lambda x: \" \".join([stemmer.stem(i) for i in x.lower().split()])))\n",
    "\n",
    "    # Drop unnecessary variables\n",
    "    products = products.drop(['NombreProducto', 'short_name'], axis = 1)\n",
    "\n",
    "    return products    "
   ]
  },
  {
   "cell_type": "code",
   "execution_count": 25,
   "metadata": {
    "collapsed": false
   },
   "outputs": [
    {
     "name": "stdout",
     "output_type": "stream",
     "text": [
      "3. Generating new product features...\n",
      "Complete!\n",
      "   Producto_ID         brand  weight  pieces  weight_per_piece  \\\n",
      "0            0  IDENTIFICADO     NaN     NaN               NaN   \n",
      "1            9           NES   750.0     NaN               NaN   \n",
      "2           41           BIM   480.0     6.0             80.00   \n",
      "3           53           LON   170.0     NaN               NaN   \n",
      "4           72            TR    45.0     4.0             11.25   \n",
      "\n",
      "      short_product_name  \n",
      "0              identific  \n",
      "1           capuccin mok  \n",
      "2  bimboll ext sajonjoli  \n",
      "3           burrit sincr  \n",
      "4   div tir mini doradit  \n"
     ]
    }
   ],
   "source": [
    "print \"3. Generating new product features...\"\n",
    "products = create_product_features(products)\n",
    "print \"Complete!\"\n",
    "print products.head()"
   ]
  },
  {
   "cell_type": "markdown",
   "metadata": {},
   "source": [
    "### Write modified dataframes to CSV files"
   ]
  },
  {
   "cell_type": "code",
   "execution_count": 26,
   "metadata": {
    "collapsed": false
   },
   "outputs": [
    {
     "name": "stdout",
     "output_type": "stream",
     "text": [
      "4. Writing to CSV...\n",
      "Complete!\n"
     ]
    }
   ],
   "source": [
    "print \"4. Writing to CSV...\"\n",
    "clients.to_csv(\"cliente_tabla_modified.csv\", index = False, header = True)\n",
    "products.to_csv(\"producto_tabla_modified.csv\", index = False, header = True)\n",
    "print \"Complete!\""
   ]
  },
  {
   "cell_type": "markdown",
   "metadata": {
    "collapsed": true
   },
   "source": [
    "### Process complete!"
   ]
  }
 ],
 "metadata": {
  "kernelspec": {
   "display_name": "Python 2",
   "language": "python",
   "name": "python2"
  },
  "language_info": {
   "codemirror_mode": {
    "name": "ipython",
    "version": 2
   },
   "file_extension": ".py",
   "mimetype": "text/x-python",
   "name": "python",
   "nbconvert_exporter": "python",
   "pygments_lexer": "ipython2",
   "version": "2.7.11"
  }
 },
 "nbformat": 4,
 "nbformat_minor": 0
}
